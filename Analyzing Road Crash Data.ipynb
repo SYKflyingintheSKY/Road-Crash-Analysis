{
 "cells": [
  {
   "cell_type": "markdown",
   "metadata": {},
   "source": [
    "# Analyzing Road Crash Data\n",
    "## Part A: Working with RDDs and DataFrames\n",
    "\n",
    "#### Name: Soyeon Kim"
   ]
  },
  {
   "cell_type": "markdown",
   "metadata": {},
   "source": [
    "## Table of Contents\n",
    "* [1. Working with RDD](#one)\n",
    "    * [1.1 Data Preparation and Loading](#one1)\n",
    "    * [1.2 Data Partitioning in RDD](#one2)\n",
    "    * [1.3 Query/Analysis](#one3)\n",
    "* [2. Working with DataFrames](#two) \n",
    "    * [2.1 Data Preparation and Loading](#two1)\n",
    "    * [2.2 Query/Analysis](#two2)\n",
    "    * [2.3 Severity Analysis](#two3)\n",
    "    * [2.4 RDDs vs DataFrame vs Spark SQL](#two4)"
   ]
  },
  {
   "cell_type": "markdown",
   "metadata": {},
   "source": [
    "<a class=\"anchor\" name=\"one\"></a>\n",
    "## 1. Working with RDD"
   ]
  },
  {
   "cell_type": "markdown",
   "metadata": {},
   "source": [
    "In this section, you will need to create RDDs from the given datasets, perform partitioning in\n",
    "these RDDs and use various RDD operations to answer the queries for crash analysis."
   ]
  },
  {
   "cell_type": "markdown",
   "metadata": {},
   "source": [
    "<a class=\"anchor\" name=\"one1\"></a>\n",
    "## 1.1 Data Preparation and Loading"
   ]
  },
  {
   "cell_type": "markdown",
   "metadata": {},
   "source": [
    "#### 1. Write the code to create a SparkContext object using SparkSession, which tells Spark how to access a cluster. To create a SparkSession you first need to build a SparkConf object that contains information about your application. Give an appropriate name for your application and run Spark locally with as many working processors as logical cores on your machine."
   ]
  },
  {
   "cell_type": "code",
   "execution_count": 1,
   "metadata": {},
   "outputs": [],
   "source": [
    "# Import SparkConf class into program\n",
    "from pyspark import SparkConf\n",
    "\n",
    "# local[*]: run Spark in local mode with as many working processors as logical cores on your machine\n",
    "master = \"local[*]\"\n",
    "# The `appName` field is a name to be shown on the Spark cluster UI page\n",
    "app_name = \"Working with RDDs and DataFrames\"\n",
    "# Setup configuration parameters for Spark\n",
    "spark_conf = SparkConf().setMaster(master).setAppName(app_name)\n",
    "\n",
    "# Import SparkContext and SparkSession classes\n",
    "from pyspark import SparkContext # Spark\n",
    "from pyspark.sql import SparkSession # Spark SQL\n",
    "\n",
    "# Using SparkSession\n",
    "spark = SparkSession.builder.config(conf=spark_conf).getOrCreate()\n",
    "sc = spark.sparkContext\n",
    "sc.setLogLevel('ERROR')"
   ]
  },
  {
   "cell_type": "markdown",
   "metadata": {},
   "source": [
    "#### 2. Import all the “Units” csv files from 2015-2019 into a single RDD."
   ]
  },
  {
   "cell_type": "markdown",
   "metadata": {},
   "source": [
    "Ramzy. (2016, December 14). Pyspark read multiple csv files into a dataframe (OR RDD?). Retrieved from https://stackoverflow.com/questions/41129787/pyspark-read-multiple-csv-files-into-a-dataframe-or-rdd?rq=1"
   ]
  },
  {
   "cell_type": "code",
   "execution_count": 2,
   "metadata": {},
   "outputs": [],
   "source": [
    "# Using a wildcard \"*\" to import multiple \"Units\" files\n",
    "rdd_unit = sc.textFile(\"*_Units.csv\")\n",
    "\n",
    "#rdd_unit.take(10)"
   ]
  },
  {
   "cell_type": "markdown",
   "metadata": {},
   "source": [
    "#### 3. Import all the “Crashes” csv files from 2015-2019 into a single RDD."
   ]
  },
  {
   "cell_type": "code",
   "execution_count": 3,
   "metadata": {},
   "outputs": [],
   "source": [
    "# Using a wildcard \"*\" to import multiple \"Crashes\" files\n",
    "rdd_crash = sc.textFile(\"*_Crash.csv\")\n",
    "\n",
    "# rdd_crash.take(10)"
   ]
  },
  {
   "cell_type": "markdown",
   "metadata": {},
   "source": [
    "#### 4. For each Units and Crashes RDDs, remove the header rows and display the total count and first 10 records. Hint : You can use csv.reader to parse rows in RDDs"
   ]
  },
  {
   "cell_type": "markdown",
   "metadata": {},
   "source": [
    "<li> Units RDD </li>"
   ]
  },
  {
   "cell_type": "code",
   "execution_count": 4,
   "metadata": {},
   "outputs": [],
   "source": [
    "# Before doing the given task, we will remove double quotes enclosing each value in Units RDD for making the further operations easy\n",
    "rdd_unit_0 = rdd_unit.map(lambda x: x.replace('\"', ''))\n",
    "\n",
    "# rdd_unit_0.take(4)"
   ]
  },
  {
   "cell_type": "code",
   "execution_count": 5,
   "metadata": {},
   "outputs": [],
   "source": [
    "# remove the header rows\n",
    "header_unit = rdd_unit_0.first()\n",
    "rdd_unit_1 = rdd_unit_0.filter(lambda x: x != header_unit)"
   ]
  },
  {
   "cell_type": "code",
   "execution_count": 6,
   "metadata": {},
   "outputs": [
    {
     "name": "stdout",
     "output_type": "stream",
     "text": [
      "total count of Units RDD:  153854\n"
     ]
    }
   ],
   "source": [
    "#total count\n",
    "print(\"total count of Units RDD: \", rdd_unit_1.count())"
   ]
  },
  {
   "cell_type": "code",
   "execution_count": 7,
   "metadata": {},
   "outputs": [
    {
     "name": "stdout",
     "output_type": "stream",
     "text": [
      "first 10 records of Units RDD: \n"
     ]
    },
    {
     "data": {
      "text/plain": [
       "['2016-1-15/08/2019,01,0,SA,OMNIBUS,2011,North,Male,056,SA,HR,Full,Not Towing,Straight Ahead,010,5121,,',\n",
       " '2016-1-15/08/2019,02,1,,Pedestrian on Road,,East,Male,072,,,,,Walking on Road,,5084,,',\n",
       " '2016-2-15/08/2019,01,0,SA,Motor Cars - Sedan,2004,Unknown,Female,023,SA,C ,Full,Not Towing,Straight Ahead,001,5087,,',\n",
       " '2016-2-15/08/2019,02,0,SA,Station Wagon,2008,Unknown,Male,040,SA,C ,Full,Not Towing,Straight Ahead,001,5084,,',\n",
       " '2016-3-15/08/2019,01,0,SA,RIGID TRUCK LGE GE 4.5T,1990,South,Unknown,XXX,SA,MR,Provisional 2,Not Towing,Straight Ahead,001,5115,,',\n",
       " '2016-3-15/08/2019,02,0,SA,Panel Van,2013,South,Male,023,SA,C ,Full,Not Towing,Straight Ahead,001,5110,,',\n",
       " '2016-4-15/08/2019,01,0,SA,Station Wagon,2002,East,Female,033,SA,C ,Full,Not Towing,Straight Ahead,001,5169,,',\n",
       " '2016-4-15/08/2019,02,0,UNKNOWN,Other Defined Special Vehicle,XXXX,North,Unknown,XXX,UNKNOWN,XX,Unknown,Unknown,Reversing,001,XXXX,,',\n",
       " '2016-5-15/08/2019,01,1,SA,Motor Cars - Sedan,1997,South East,Male,042,SA,C ,Full,Not Towing,Right Turn,001,XXXX,,',\n",
       " '2016-5-15/08/2019,02,2,SA,Utility,2015,North East,Male,059,SA,MC,Full,Not Towing,Straight Ahead,002,5114,,']"
      ]
     },
     "execution_count": 7,
     "metadata": {},
     "output_type": "execute_result"
    }
   ],
   "source": [
    "# first 10 records\n",
    "print(\"first 10 records of Units RDD: \")\n",
    "rdd_unit_1.take(10)"
   ]
  },
  {
   "cell_type": "markdown",
   "metadata": {},
   "source": [
    "<li> Crashes RDD </li>"
   ]
  },
  {
   "cell_type": "code",
   "execution_count": 8,
   "metadata": {},
   "outputs": [],
   "source": [
    "# Before doing the given task, we will remove double quotes enclosing each value in Crashes RDD for making the further operations easy\n",
    "rdd_crash_0 = rdd_crash.map(lambda x: x.replace('\"', ''))\n",
    "# rdd_unit_0.take(4)"
   ]
  },
  {
   "cell_type": "code",
   "execution_count": 9,
   "metadata": {},
   "outputs": [],
   "source": [
    "# remove the header rows\n",
    "header_crash = rdd_crash_0.first()\n",
    "rdd_crash_1= rdd_crash_0.filter(lambda x: x != header_crash)"
   ]
  },
  {
   "cell_type": "code",
   "execution_count": 10,
   "metadata": {},
   "outputs": [
    {
     "name": "stdout",
     "output_type": "stream",
     "text": [
      "total count of Crashes RDD:  72006\n"
     ]
    }
   ],
   "source": [
    "#total count\n",
    "print(\"total count of Crashes RDD: \", rdd_crash_1.count())"
   ]
  },
  {
   "cell_type": "code",
   "execution_count": 11,
   "metadata": {},
   "outputs": [
    {
     "name": "stdout",
     "output_type": "stream",
     "text": [
      "first 10 records of Crashes RDD: \n"
     ]
    },
    {
     "data": {
      "text/plain": [
       "['2019-1-8/07/2020,2 Metropolitan,HAMPSTEAD GARDENS,5086,CITY OF PORT ADELAIDE ENFIELD,2,0,0,0,0,2019,June,Wednesday,11:15 am,060,Cross Road,Straight road,Level,Not Applicable,Sealed,Dry,Not Raining,Daylight,Right Angle,01,Driver Rider,1: PDO,Give Way Sign,,,1331810.03,1676603.26,13318101676603',\n",
       " '2019-2-8/07/2020,2 Metropolitan,DRY CREEK,5094,CITY OF SALISBURY,2,0,0,0,0,2019,January,Tuesday,12:49 am,090,Divided Road,Straight road,Level,Not Applicable,Sealed,Dry,Not Raining,Night,Rear End,02,Driver Rider,1: PDO,No Control,,,1328376.2,1682942.63,13283761682943',\n",
       " '2019-3-8/07/2020,2 Metropolitan,MILE END,5031,CITY OF WEST TORRENS,2,1,0,0,1,2019,January,Tuesday,12:00 am,060,Divided Road,Straight road,Level,Not Applicable,Sealed,Dry,Not Raining,Night,Hit Pedestrian,01,Driver Rider,2: MI,No Control,,,1325819.68,1670994.26,13258201670994',\n",
       " '2019-4-8/07/2020,2 Metropolitan,PARALOWIE,5108,CITY OF SALISBURY,2,1,0,1,0,2019,January,Tuesday,12:05 am,050,Not Divided,CURVED, VIEW OPEN,Level,Not Applicable,Sealed,Dry,Not Raining,Night,Hit Fixed Object,01,Driver Rider,3: SI,No Control,,,1328320.6,1690237.08,13283211690237',\n",
       " '2019-5-8/07/2020,2 Metropolitan,MOUNT BARKER,5251,DC MT.BARKER.                 ,2,0,0,0,0,2019,January,Tuesday,05:15 am,110,Divided Road,Straight road,Slope,Not Applicable,Sealed,Dry,Not Raining,Night,Hit Animal,02,Animal,1: PDO,No Control,,,1353279.99,1655645.15,13532801655645',\n",
       " '2019-6-8/07/2020,2 Metropolitan,TORRENSVILLE,5031,CITY OF WEST TORRENS,2,1,0,0,1,2019,January,Tuesday,07:00 am,050,Divided Road,Straight road,Level,Not Applicable,Sealed,Dry,Not Raining,Daylight,Hit Fixed Object,01,Driver Rider,2: MI,No Control,,,1324652.75,1672027.64,13246531672028',\n",
       " '2019-7-8/07/2020,2 Metropolitan,BEDFORD PARK,5042,CC MITCHAM.                   ,2,3,0,0,3,2019,January,Tuesday,09:40 am,050,Cross Road,Straight road,Level,Not Applicable,Sealed,Dry,Not Raining,Daylight,Right Angle,02,Driver Rider,2: MI,Traffic Signals,,,1325156.2,1660414.38,13251561660414',\n",
       " '2019-8-8/07/2020,3 Country,WYE,5291,DISTRICT COUNCIL OF GRANT,1,1,0,0,1,2019,January,Tuesday,12:15 pm,110,Not Divided,CURVED, VIEW OPEN,Level,Not Applicable,Sealed,Dry,Not Raining,Daylight,Roll Over,01,Driver Rider,2: MI,No Control,,,1517347.8,1321979.33,15173481321979',\n",
       " '2019-9-8/07/2020,3 Country,MOUNT GAMBIER,5290,CC MT.GAMBIER.                ,1,1,0,0,1,2019,January,Tuesday,11:45 am,050,T-Junction,Straight road,Bottom of Hill,Not Applicable,Sealed,Dry,Not Raining,Daylight,Roll Over,01,Driver Rider,2: MI,Stop Sign,,,1510220.05,1340472.35,15102201340472',\n",
       " '2019-10-8/07/2020,3 Country,OVERLAND CORNER,5330,THE BERRI BARMERA COUNCIL,1,1,0,1,0,2019,January,Tuesday,12:30 pm,080,Not Divided,CURVED, VIEW OPEN,Slope,Not Applicable,Sealed,Dry,Not Raining,Daylight,Roll Over,01,Driver Rider,3: SI,No Control,,,1492599.9,1749395.71,14926001749396']"
      ]
     },
     "execution_count": 11,
     "metadata": {},
     "output_type": "execute_result"
    }
   ],
   "source": [
    "# first 10 records\n",
    "print(\"first 10 records of Crashes RDD: \")\n",
    "rdd_crash_1.take(10)"
   ]
  },
  {
   "cell_type": "markdown",
   "metadata": {},
   "source": [
    "These could have been done by implementing codes using the csv.reader method. However, since these codes take more time for printing outputs than the codes presented above, the csv.reader method was not used in this file."
   ]
  },
  {
   "cell_type": "markdown",
   "metadata": {},
   "source": [
    "<a class=\"anchor\" name=\"one2\"></a>\n",
    "## 1.2 Data Partitioning in RDD"
   ]
  },
  {
   "cell_type": "markdown",
   "metadata": {},
   "source": [
    "#### 1. How many partitions do the above RDDs have? How is the data in these RDDs partitioned by default, when we do not explicitly specify any partitioning strategy?"
   ]
  },
  {
   "cell_type": "markdown",
   "metadata": {},
   "source": [
    "<li> Units RDD </li>"
   ]
  },
  {
   "cell_type": "code",
   "execution_count": 12,
   "metadata": {},
   "outputs": [
    {
     "name": "stdout",
     "output_type": "stream",
     "text": [
      "Number of partitions of Units RDD:5\n"
     ]
    }
   ],
   "source": [
    "# number of partitions\n",
    "print(\"Number of partitions of Units RDD:{}\".format(rdd_unit_1.getNumPartitions()))"
   ]
  },
  {
   "cell_type": "markdown",
   "metadata": {},
   "source": [
    "<li> Crashes RDD </li>"
   ]
  },
  {
   "cell_type": "code",
   "execution_count": 13,
   "metadata": {},
   "outputs": [
    {
     "name": "stdout",
     "output_type": "stream",
     "text": [
      "Number of partitions of Crashes RDD:5\n"
     ]
    }
   ],
   "source": [
    "# number of partitions\n",
    "print(\"Number of partitions of Crashes RDD:{}\".format(rdd_crash_1.getNumPartitions()))"
   ]
  },
  {
   "cell_type": "markdown",
   "metadata": {},
   "source": [
    "#### &nbsp;&nbsp;&nbsp;&nbsp; Answer:\n",
    "By default, Spark partitions the data using <strong> Round-robin data partitioning(=Random equal partitioning) </strong> unless there are specific transformations that uses a different type of partitioning.Thus, the data in both RDDs was partitioned by <strong> Round-robin data partitioning(=Random equal partitioning) </strong> by default."
   ]
  },
  {
   "cell_type": "markdown",
   "metadata": {},
   "source": [
    "#### 2. In the “Units” csv dataset, there is a column called Lic State which shows the state where the vehicle is registered. Assume we want to keep all the data related to SA in one partition and the rest of the data in another partition."
   ]
  },
  {
   "cell_type": "markdown",
   "metadata": {},
   "source": [
    "#### &nbsp;&nbsp;&nbsp;&nbsp;&nbsp; a. Create a Key Value Pair RDD with Lic State as the key and rest of the other columns as value. "
   ]
  },
  {
   "cell_type": "code",
   "execution_count": 14,
   "metadata": {
    "scrolled": false
   },
   "outputs": [
    {
     "data": {
      "text/plain": [
       "[('SA',\n",
       "  ['2016-1-15/08/2019',\n",
       "   '01',\n",
       "   '0',\n",
       "   'SA',\n",
       "   'OMNIBUS',\n",
       "   '2011',\n",
       "   'North',\n",
       "   'Male',\n",
       "   '056',\n",
       "   'HR',\n",
       "   'Full',\n",
       "   'Not Towing',\n",
       "   'Straight Ahead',\n",
       "   '010',\n",
       "   '5121',\n",
       "   '',\n",
       "   '']),\n",
       " ('',\n",
       "  ['2016-1-15/08/2019',\n",
       "   '02',\n",
       "   '1',\n",
       "   '',\n",
       "   'Pedestrian on Road',\n",
       "   '',\n",
       "   'East',\n",
       "   'Male',\n",
       "   '072',\n",
       "   '',\n",
       "   '',\n",
       "   '',\n",
       "   'Walking on Road',\n",
       "   '',\n",
       "   '5084',\n",
       "   '',\n",
       "   '']),\n",
       " ('SA',\n",
       "  ['2016-2-15/08/2019',\n",
       "   '01',\n",
       "   '0',\n",
       "   'SA',\n",
       "   'Motor Cars - Sedan',\n",
       "   '2004',\n",
       "   'Unknown',\n",
       "   'Female',\n",
       "   '023',\n",
       "   'C ',\n",
       "   'Full',\n",
       "   'Not Towing',\n",
       "   'Straight Ahead',\n",
       "   '001',\n",
       "   '5087',\n",
       "   '',\n",
       "   ''])]"
      ]
     },
     "execution_count": 14,
     "metadata": {},
     "output_type": "execute_result"
    }
   ],
   "source": [
    "# step1: split line separated by comma\n",
    "# step2: return a tuple with Lic State as first element and the remaining as the second element\n",
    "# index for \"Lic State\" column = 9\n",
    "rdd_unit_state = rdd_unit_1.map(lambda x: x.split(',')).map(lambda x: (x[9], x[:9] + x[10:]))\n",
    "\n",
    "rdd_unit_state.take(3)"
   ]
  },
  {
   "cell_type": "markdown",
   "metadata": {},
   "source": [
    "#### &nbsp;&nbsp;&nbsp;&nbsp;&nbsp; b. Write the code to implement this partitioning in RDD using appropriate partitioning functions."
   ]
  },
  {
   "cell_type": "code",
   "execution_count": 15,
   "metadata": {},
   "outputs": [],
   "source": [
    "# The number of partitons should be 2: keep all the data related to SA in one partition and the rest of the data in another partition.\n",
    "\n",
    "no_of_partitions = 2\n",
    "\n",
    "# Since we should partition based on an exact value('SA'), a hash function to implement Hash Partitioning will be used.\n",
    "# Hash partitioning uses the formula 'partition = hash_function() % numPartitions' to determine which partition data item falls into.\n",
    "def hash_function(key):\n",
    "    if key == 'SA':\n",
    "        # partition number for the data related to SA = 2 % 2 = 0 \n",
    "        return 2\n",
    "    else:\n",
    "        # partition number for the rest of the data = 3 % 2 = 1\n",
    "        return 3"
   ]
  },
  {
   "cell_type": "code",
   "execution_count": 16,
   "metadata": {},
   "outputs": [],
   "source": [
    "# Hash partitioning\n",
    "hash_partitioned_rdd = rdd_unit_state.partitionBy(no_of_partitions, hash_function)"
   ]
  },
  {
   "cell_type": "markdown",
   "metadata": {},
   "source": [
    "#### &nbsp;&nbsp;&nbsp;&nbsp;&nbsp; c. Write the code to print the number of records in each partition. What does it tell about the data skewness?"
   ]
  },
  {
   "cell_type": "code",
   "execution_count": 17,
   "metadata": {},
   "outputs": [],
   "source": [
    "# A function to print the number of records in each partition.\n",
    "\n",
    "def print_records_number(data):\n",
    "    numPartitions = data.getNumPartitions()\n",
    "    partitions = data.glom().collect()\n",
    "    print(f\"####### NUMBER OF PARTITIONS: {numPartitions}\")\n",
    "    for index, partition in enumerate(partitions):\n",
    "        print(f\"Partition {index}: {len(partition)} records\")"
   ]
  },
  {
   "cell_type": "code",
   "execution_count": 18,
   "metadata": {},
   "outputs": [
    {
     "name": "stdout",
     "output_type": "stream",
     "text": [
      "####### NUMBER OF PARTITIONS: 2\n",
      "Partition 0: 109684 records\n",
      "Partition 1: 44170 records\n"
     ]
    }
   ],
   "source": [
    "print_records_number(hash_partitioned_rdd)"
   ]
  },
  {
   "cell_type": "markdown",
   "metadata": {},
   "source": [
    "#### &nbsp;&nbsp;&nbsp;&nbsp;&nbsp; Answer:\n",
    "It seems that <strong> the data in the RDD is skewed</strong>, since the number of records in partition 0, containing the rows related to \"SA\", is 109684 and that in partition 1, having the rest of the rows, is 44170, which means <strong>the partition 0 has more than twice as many records as the partition 1</strong>. "
   ]
  },
  {
   "cell_type": "markdown",
   "metadata": {},
   "source": [
    "<a class=\"anchor\" name=\"one3\"></a>\n",
    "## 1.3 Query/Analysis"
   ]
  },
  {
   "cell_type": "markdown",
   "metadata": {},
   "source": [
    "For the Units RDD, write relevant RDD operations to answer the following queries"
   ]
  },
  {
   "cell_type": "markdown",
   "metadata": {},
   "source": [
    "#### 1. Find the average age of male and female drivers separately </font>"
   ]
  },
  {
   "cell_type": "code",
   "execution_count": 19,
   "metadata": {},
   "outputs": [],
   "source": [
    "rdd_unit_query = rdd_unit_1.map(lambda x: x.split(','))"
   ]
  },
  {
   "cell_type": "code",
   "execution_count": 20,
   "metadata": {},
   "outputs": [
    {
     "name": "stdout",
     "output_type": "stream",
     "text": [
      "Average age of male and female drivers: [('Male', 40.975960299920004), ('Female', 40.38729268862415)]\n"
     ]
    }
   ],
   "source": [
    "# 1) with uncleaned data (Unit type, Age)\n",
    "\n",
    "# Indices for each attribute we will use\n",
    "# \"Sex\" = 7, \"Age\" = 8\n",
    "\n",
    "# \"Sex\" = \"Male\" or \"Female\",\"Age\" = numeric values\n",
    "sex_age_ori = rdd_unit_query.filter(lambda x: x[7] in [\"Male\",\"Female\"] and x[8].isnumeric() == True)\n",
    "\n",
    "# create a key value pair RDD = (\"Sex\", \"Age\")\n",
    "sex_age_pair_ori = sex_age_ori.map(lambda x: (x[7], int(x[8])))\n",
    "\n",
    "# average age for each sex \n",
    "# In lambda function, x = (runningSum, runningCount), y = (nextSum, nextCount)\n",
    "sex_age_avg_ori = sex_age_pair_ori.mapValues(lambda x: (x,1))\\\n",
    "                                   .reduceByKey(lambda x,y: ((x[0]+y[0]),(x[1]+y[1])))\\\n",
    "                                   .mapValues(lambda x: x[0]/x[1]).collect()\n",
    "\n",
    "print(f\"Average age of male and female drivers: {sex_age_avg_ori}\")"
   ]
  },
  {
   "cell_type": "code",
   "execution_count": 21,
   "metadata": {},
   "outputs": [
    {
     "name": "stdout",
     "output_type": "stream",
     "text": [
      "Average age of male and female drivers: [('Male', 41.71493788249261), ('Female', 41.01112859961427)]\n"
     ]
    }
   ],
   "source": [
    "# 2) with cleaned data (Unit type, Age)\n",
    "# Indices for each attribute we will use\n",
    "# \"Sex\" = 7, \"Age\" = 8, Unit Type\" = 4\n",
    "\n",
    "# \"Sex\" = \"Male\" or \"Female\",\"Age\" = numeric values, \"Unit Type\" = vehichle types\n",
    "# Let's assume that the age limit for driving vehicles in Australia: 18 <= age <= 120\n",
    "sex_age = rdd_unit_query.filter(lambda x: x[7] in [\"Male\",\"Female\"] \n",
    "                                          and x[8].isnumeric() == True and int(x[8])>=18 and int(x[8])<=120\n",
    "                                          and x[4] not in [\"Tree\", \"Guard Rail\", \"null\", \"Wire Rope Barrier\", \"Stobie Pole\", \"Animal - Wild\", \n",
    "                                                             \"Pedestrian on Road\",\"Bridge\", \"Other Fixed Obstruction\", \n",
    "                                                             \"Other Inanimate Object\",\"Pedestrian on Footpath/Carpark\", \n",
    "                                                             \"Animal - Domestic - Not Ridden\",\"Traffic Signal Pole\", \"Sign Post\", \n",
    "                                                             \"Pole - not Stobie\"] )\n",
    "\n",
    "# create a key value pair RDD = (\"Sex\", \"Age\")\n",
    "sex_age_pair = sex_age.map(lambda x: (x[7], int(x[8])))\n",
    "\n",
    "# average age for each sex \n",
    "# In lambda function, x = (runningSum, runningCount), y = (nextSum, nextCount)\n",
    "sex_age_avg = sex_age_pair.mapValues(lambda x: (x,1))\\\n",
    "                           .reduceByKey(lambda x,y: ((x[0]+y[0]),(x[1]+y[1])))\\\n",
    "                           .mapValues(lambda x: x[0]/x[1]).collect()\n",
    "\n",
    "print(f\"Average age of male and female drivers: {sex_age_avg}\")"
   ]
  },
  {
   "cell_type": "markdown",
   "metadata": {},
   "source": [
    "Grepper. (2020, February 3). “python is numeric” Code Answer. Retrived from: https://www.codegrepper.com/code-examples/lua/python+is+numeric"
   ]
  },
  {
   "cell_type": "markdown",
   "metadata": {},
   "source": [
    "Pat. (2017, February 3). Calculating the averages for each KEY in a Pairwise (K,V) RDD in Spark with Python. Retrived from: https://stackoverflow.com/questions/29930110/calculating-the-averages-for-each-key-in-a-pairwise-k-v-rdd-in-spark-with-pyth"
   ]
  },
  {
   "cell_type": "markdown",
   "metadata": {},
   "source": [
    "#### 2. What is the oldest and the newest vehicle year involved in the accident? Display the Registration State, Year and Unit type of the vehicle."
   ]
  },
  {
   "cell_type": "code",
   "execution_count": 22,
   "metadata": {},
   "outputs": [],
   "source": [
    "# Indices for each attribute we will use\n",
    "# \"Veh Year\" = 5, \"Veh Reg State\" = 3, \"Unit Type\" = 4\n",
    "\n",
    "# \"Veh Year\" = covert the datatype to numeric for comparison\n",
    "rdd_unit_query_year = rdd_unit_query.filter(lambda x: x[5].isnumeric() == True)\n",
    "\n",
    "# oldest = min(Veh Year)\n",
    "oldest = rdd_unit_query_year.min(key=lambda x: int(x[5]))\n",
    "\n",
    "# newest = max(Veh Year)\n",
    "newest = rdd_unit_query_year.max(key=lambda x: int(x[5]))"
   ]
  },
  {
   "cell_type": "code",
   "execution_count": 23,
   "metadata": {},
   "outputs": [
    {
     "name": "stdout",
     "output_type": "stream",
     "text": [
      "oldest vehicle: ['VIC', 'Motor Cycle', '1900']\n",
      "newest vehicle: ['SA', 'Station Wagon', '2019']\n"
     ]
    }
   ],
   "source": [
    "print(f\"oldest vehicle: {oldest[3:6]}\")\n",
    "print(f\"newest vehicle: {newest[3:6]}\")"
   ]
  },
  {
   "cell_type": "markdown",
   "metadata": {},
   "source": [
    "<a class=\"anchor\" name=\"two\"></a>\n",
    "## 2. Working with DataFrames"
   ]
  },
  {
   "cell_type": "markdown",
   "metadata": {},
   "source": [
    "In this section, you will need to load the given datasets into PySpark DataFrames and use\n",
    "DataFrame functionsto answer the queries."
   ]
  },
  {
   "cell_type": "markdown",
   "metadata": {},
   "source": [
    "<a class=\"anchor\" name=\"two1\"></a>\n",
    "## 2.1 Data Preparation and Loading "
   ]
  },
  {
   "cell_type": "markdown",
   "metadata": {},
   "source": [
    "#### 1. Load all units and crash data into two separate dataframes."
   ]
  },
  {
   "cell_type": "code",
   "execution_count": 24,
   "metadata": {},
   "outputs": [],
   "source": [
    "#Units dataframe\n",
    "unit_df = spark.read.csv(\"*_DATA_SA_Units.csv\",header=True)\n",
    "\n",
    "# Crashes dataframe\n",
    "crash_df = spark.read.csv(\"*_DATA_SA_Crash.csv\",header=True)"
   ]
  },
  {
   "cell_type": "markdown",
   "metadata": {},
   "source": [
    "#### 2. Display the schema of the final two dataframes."
   ]
  },
  {
   "cell_type": "markdown",
   "metadata": {},
   "source": [
    "<li> Units dataframe </li>"
   ]
  },
  {
   "cell_type": "code",
   "execution_count": 25,
   "metadata": {},
   "outputs": [
    {
     "name": "stdout",
     "output_type": "stream",
     "text": [
      "----- Schema of Units dataframe -----\n",
      "root\n",
      " |-- REPORT_ID: string (nullable = true)\n",
      " |-- Unit No: string (nullable = true)\n",
      " |-- No Of Cas: string (nullable = true)\n",
      " |-- Veh Reg State: string (nullable = true)\n",
      " |-- Unit Type: string (nullable = true)\n",
      " |-- Veh Year: string (nullable = true)\n",
      " |-- Direction Of Travel: string (nullable = true)\n",
      " |-- Sex: string (nullable = true)\n",
      " |-- Age: string (nullable = true)\n",
      " |-- Lic State: string (nullable = true)\n",
      " |-- Licence Class: string (nullable = true)\n",
      " |-- Licence Type: string (nullable = true)\n",
      " |-- Towing: string (nullable = true)\n",
      " |-- Unit Movement: string (nullable = true)\n",
      " |-- Number Occupants: string (nullable = true)\n",
      " |-- Postcode: string (nullable = true)\n",
      " |-- Rollover: string (nullable = true)\n",
      " |-- Fire: string (nullable = true)\n",
      "\n"
     ]
    }
   ],
   "source": [
    "print(\"----- Schema of Units dataframe -----\")\n",
    "unit_df.printSchema()"
   ]
  },
  {
   "cell_type": "markdown",
   "metadata": {},
   "source": [
    "<li> Crashes dataframe </li>"
   ]
  },
  {
   "cell_type": "code",
   "execution_count": 26,
   "metadata": {},
   "outputs": [
    {
     "name": "stdout",
     "output_type": "stream",
     "text": [
      "----- Schema of Crashes dataframe -----\n",
      "root\n",
      " |-- REPORT_ID: string (nullable = true)\n",
      " |-- Stats Area: string (nullable = true)\n",
      " |-- Suburb: string (nullable = true)\n",
      " |-- Postcode: string (nullable = true)\n",
      " |-- LGA Name: string (nullable = true)\n",
      " |-- Total Units: string (nullable = true)\n",
      " |-- Total Cas: string (nullable = true)\n",
      " |-- Total Fats: string (nullable = true)\n",
      " |-- Total SI: string (nullable = true)\n",
      " |-- Total MI: string (nullable = true)\n",
      " |-- Year: string (nullable = true)\n",
      " |-- Month: string (nullable = true)\n",
      " |-- Day: string (nullable = true)\n",
      " |-- Time: string (nullable = true)\n",
      " |-- Area Speed: string (nullable = true)\n",
      " |-- Position Type: string (nullable = true)\n",
      " |-- Horizontal Align: string (nullable = true)\n",
      " |-- Vertical Align: string (nullable = true)\n",
      " |-- Other Feat: string (nullable = true)\n",
      " |-- Road Surface: string (nullable = true)\n",
      " |-- Moisture Cond: string (nullable = true)\n",
      " |-- Weather Cond: string (nullable = true)\n",
      " |-- DayNight: string (nullable = true)\n",
      " |-- Crash Type: string (nullable = true)\n",
      " |-- Unit Resp: string (nullable = true)\n",
      " |-- Entity Code: string (nullable = true)\n",
      " |-- CSEF Severity: string (nullable = true)\n",
      " |-- Traffic Ctrls: string (nullable = true)\n",
      " |-- DUI Involved: string (nullable = true)\n",
      " |-- Drugs Involved: string (nullable = true)\n",
      " |-- ACCLOC_X: string (nullable = true)\n",
      " |-- ACCLOC_Y: string (nullable = true)\n",
      " |-- UNIQUE_LOC: string (nullable = true)\n",
      "\n"
     ]
    }
   ],
   "source": [
    "print(\"----- Schema of Crashes dataframe -----\")\n",
    "crash_df.printSchema()"
   ]
  },
  {
   "cell_type": "markdown",
   "metadata": {},
   "source": [
    "<a class=\"anchor\" name=\"two2\"></a>\n",
    "## 2.2 Query/Analysis"
   ]
  },
  {
   "cell_type": "markdown",
   "metadata": {},
   "source": [
    "Implement the following queries using dataframes. You need to be able to perform operations\n",
    "like filtering, sorting, joining and group by using the functions provided by the DataFrame API."
   ]
  },
  {
   "cell_type": "markdown",
   "metadata": {},
   "source": [
    "#### 1. Find all the crash events in Adelaide where the total number of casualties in the event is more than 3."
   ]
  },
  {
   "cell_type": "code",
   "execution_count": 27,
   "metadata": {},
   "outputs": [],
   "source": [
    "from pyspark.sql import functions as F\n",
    "from pyspark.sql.types import IntegerType\n",
    "from pyspark.sql.functions import col"
   ]
  },
  {
   "cell_type": "code",
   "execution_count": 28,
   "metadata": {},
   "outputs": [],
   "source": [
    "# use CAST to change the datatype of \"Total Cas\" Column \n",
    "crash_df = crash_df.withColumn(\"Total Cas\",F.col(\"Total Cas\").cast(IntegerType()))\n",
    "\n",
    "# display(crash_df)"
   ]
  },
  {
   "cell_type": "code",
   "execution_count": 29,
   "metadata": {},
   "outputs": [
    {
     "name": "stdout",
     "output_type": "stream",
     "text": [
      "+--------------------+----------+--------+--------+----------------+-----------+---------+----------+--------+--------+----+--------+--------+--------+----------+-------------+----------------+--------------+--------------------+------------+-------------+------------+--------+--------------+---------+------------+-------------+---------------+------------+--------------+----------+----------+--------------+\n",
      "|           REPORT_ID|Stats Area|  Suburb|Postcode|        LGA Name|Total Units|Total Cas|Total Fats|Total SI|Total MI|Year|   Month|     Day|    Time|Area Speed|Position Type|Horizontal Align|Vertical Align|          Other Feat|Road Surface|Moisture Cond|Weather Cond|DayNight|    Crash Type|Unit Resp| Entity Code|CSEF Severity|  Traffic Ctrls|DUI Involved|Drugs Involved|  ACCLOC_X|  ACCLOC_Y|    UNIQUE_LOC|\n",
      "+--------------------+----------+--------+--------+----------------+-----------+---------+----------+--------+--------+----+--------+--------+--------+----------+-------------+----------------+--------------+--------------------+------------+-------------+------------+--------+--------------+---------+------------+-------------+---------------+------------+--------------+----------+----------+--------------+\n",
      "| 2018-601-17/01/2020|    1 City|ADELAIDE|    5000|CITY OF ADELAIDE|          8|        4|         0|       2|       2|2018| January|  Sunday|09:12 pm|       050|  Not Divided|   Straight road|         Level|      Not Applicable|      Sealed|          Dry| Not Raining|   Night|Hit Pedestrian|       01|Driver Rider|        3: SI|     No Control|        null|          null|1329806.36|1670224.76|13298061670225|\n",
      "|2017-1613-15/08/2019|    1 City|ADELAIDE|    5000|CITY OF ADELAIDE|          2|        4|         0|       0|       4|2017|February|Saturday|04:00 pm|       050|   Cross Road|   Straight road|         Level|      Not Applicable|      Sealed|          Dry| Not Raining|Daylight|    Right Turn|       01|Driver Rider|        2: MI|Traffic Signals|        null|          null|1327951.24|1669556.92|13279511669557|\n",
      "|2017-12182-15/08/...|    1 City|ADELAIDE|    5000|CITY OF ADELAIDE|          6|        5|         0|       1|       4|2017|December|Saturday|04:08 pm|       050|   Cross Road|   Straight road|         Level|      Not Applicable|      Sealed|          Wet| Not Raining|Daylight|Hit Pedestrian|       01|Driver Rider|        3: SI|Traffic Signals|        null|          null| 1329016.2|1670995.07|13290161670995|\n",
      "|2019-10404-8/07/2020|    1 City|ADELAIDE|    5000|CITY OF ADELAIDE|          4|        6|         0|       0|       6|2019| October|  Monday|08:20 am|       060| Divided Road|   Straight road|         Level|Driveway or Entrance|      Sealed|          Dry| Not Raining|Daylight|    Right Turn|       01|Driver Rider|        2: MI|     No Control|        null|          null|1327088.72|1670880.07|13270891670880|\n",
      "+--------------------+----------+--------+--------+----------------+-----------+---------+----------+--------+--------+----+--------+--------+--------+----------+-------------+----------------+--------------+--------------------+------------+-------------+------------+--------+--------------+---------+------------+-------------+---------------+------------+--------------+----------+----------+--------------+\n",
      "\n"
     ]
    }
   ],
   "source": [
    "# \"Suburb\" = \"Adelaide\"\n",
    "crash_df_1 = crash_df.filter(col(\"Suburb\") == \"ADELAIDE\")\n",
    "\n",
    "# \"Total Cas\" > 3\n",
    "crash_df_1 = crash_df_1.filter(col(\"Total Cas\") > 3)\n",
    "\n",
    "crash_df_1.show(crash_df_1.count())"
   ]
  },
  {
   "cell_type": "markdown",
   "metadata": {},
   "source": [
    "#### 2. Display 10 crash events with highest casualties"
   ]
  },
  {
   "cell_type": "code",
   "execution_count": 30,
   "metadata": {},
   "outputs": [
    {
     "name": "stdout",
     "output_type": "stream",
     "text": [
      "+--------------------+--------------+---------------+--------+--------------------+-----------+---------+----------+--------+--------+----+--------+---------+--------+----------+-------------+--------------------+--------------+--------------+------------+-------------+------------+--------+-----------+---------+------------+-------------+---------------+------------+--------------+----------+----------+--------------+\n",
      "|           REPORT_ID|    Stats Area|         Suburb|Postcode|            LGA Name|Total Units|Total Cas|Total Fats|Total SI|Total MI|Year|   Month|      Day|    Time|Area Speed|Position Type|    Horizontal Align|Vertical Align|    Other Feat|Road Surface|Moisture Cond|Weather Cond|DayNight| Crash Type|Unit Resp| Entity Code|CSEF Severity|  Traffic Ctrls|DUI Involved|Drugs Involved|  ACCLOC_X|  ACCLOC_Y|    UNIQUE_LOC|\n",
      "+--------------------+--------------+---------------+--------+--------------------+-----------+---------+----------+--------+--------+----+--------+---------+--------+----------+-------------+--------------------+--------------+--------------+------------+-------------+------------+--------+-----------+---------+------------+-------------+---------------+------------+--------------+----------+----------+--------------+\n",
      "| 2017-288-15/08/2019|2 Metropolitan|     PARA HILLS|    5096|   CITY OF SALISBURY|          2|       11|         0|       1|      10|2017| January|Wednesday|01:13 pm|       060|   T-Junction|       Straight road| Crest of Hill|Not Applicable|      Sealed|          Dry| Not Raining|Daylight|Right Angle|       01|Driver Rider|        3: SI|      Stop Sign|        null|          null| 1334428.9|1683032.96|13344291683033|\n",
      "|2016-3035-15/08/2019|2 Metropolitan|        HACKHAM|    5163| CITY OF ONKAPARINGA|          3|        9|         3|       5|       1|2016| January| Saturday|11:50 am|       080|   T-Junction|       Straight road|         Level|Not Applicable|      Sealed|          Dry| Not Raining|Daylight| Right Turn|       01|Driver Rider|     4: Fatal|     No Control|        null|          null|1320361.49|1645195.63|13203611645196|\n",
      "|2016-6630-15/08/2019|2 Metropolitan|  KANGAROO FLAT|    5118|LIGHT REGIONAL CO...|          3|        9|         0|       2|       7|2016|   April|Wednesday|09:00 pm|       100|  Not Divided|CURVED, VIEW OBSC...|         Level|Not Applicable|      Sealed|          Dry| Not Raining|   Night|    Head On|       01|Driver Rider|        3: SI|     No Control|        null|          null|1339316.32|1710314.92|13393161710315|\n",
      "|2019-11734-8/07/2020|2 Metropolitan|          STURT|    5047|CC MARION.       ...|          2|        9|         0|       1|       8|2019|November|   Sunday|07:25 pm|       060|   T-Junction|       Straight road|         Level|Not Applicable|      Sealed|          Dry| Not Raining|Daylight| Right Turn|       02|Driver Rider|        3: SI|Traffic Signals|        null|          null|1324428.84|1659884.95|13244291659885|\n",
      "|2016-14407-15/08/...|     3 Country|      STOCKWELL|    5355|THE BAROSSA COUNCIL.|          2|        8|         1|       6|       1|2016| October|   Sunday|03:46 pm|       100|  Not Divided|       Straight road| Crest of Hill|Not Applicable|    Unsealed|          Dry| Not Raining|Daylight|    Head On|       01|Driver Rider|     4: Fatal|     No Control|        null|          null|1373964.45|1723462.57|13739641723463|\n",
      "|2016-7073-15/08/2019|     3 Country|       MERRITON|    5523|PT.PIRIE CITY & D...|          2|        8|         4|       3|       1|2016|   April|   Sunday|12:35 pm|       110|  Not Divided|       Straight road|         Level|Not Applicable|      Sealed|          Dry| Not Raining|Daylight|    Head On|       01|Driver Rider|     4: Fatal|     No Control|        null|          null|1293759.89|1840109.96|12937601840110|\n",
      "|2015-2823-21/08/2019|     3 Country|         HAWKER|    5434|THE FLINDERS RANG...|          1|        8|         0|       0|       8|2015|   March|   Monday|06:00 pm|       110|  Not Divided|       Straight road|         Level|Not Applicable|      Sealed|          Dry| Not Raining|Daylight|  Roll Over|       01|Driver Rider|        2: MI|     No Control|        null|          null|1315077.61|2022309.34|13150782022309|\n",
      "|2015-12591-21/08/...|     3 Country|        MALLALA|    5502|DC MALLALA.      ...|          2|        7|         0|       2|       5|2015| October|   Sunday|02:30 pm|       100|   Cross Road|       Straight road|         Level|Not Applicable|    Unsealed|          Dry| Not Raining|Daylight|Right Angle|       01|Driver Rider|        3: SI|  Give Way Sign|        null|          null|1325122.01|1724860.95|13251221724861|\n",
      "|2015-13713-21/08/...|2 Metropolitan|ELIZABETH GROVE|    5112|   CITY OF PLAYFORD.|          2|        7|         0|       0|       7|2015|November|   Friday|03:42 pm|       080|   T-Junction|       Straight road|         Level|Not Applicable|      Sealed|          Dry| Not Raining|Daylight|   Rear End|       01|Driver Rider|        2: MI|     No Control|        null|          null|1336118.68|1691385.65|13361191691386|\n",
      "|2015-6965-21/08/2019|     3 Country|       BEAUFORT|    5550|YORKE PENINSULA C...|          3|        7|         3|       4|       0|2015|    June|   Monday|11:13 am|       100|   T-Junction|       Straight road|         Level|Not Applicable|      Sealed|          Dry| Not Raining|Daylight|    Head On|       09|       Other|     4: Fatal|     No Control|        null|          null|1287930.19|1761652.36|12879301761652|\n",
      "+--------------------+--------------+---------------+--------+--------------------+-----------+---------+----------+--------+--------+----+--------+---------+--------+----------+-------------+--------------------+--------------+--------------+------------+-------------+------------+--------+-----------+---------+------------+-------------+---------------+------------+--------------+----------+----------+--------------+\n",
      "only showing top 10 rows\n",
      "\n"
     ]
    }
   ],
   "source": [
    "crash_df_cas_sort = crash_df.select(\"*\").sort(\"Total Cas\", ascending=False)\n",
    "crash_df_cas_sort.show(10)"
   ]
  },
  {
   "cell_type": "markdown",
   "metadata": {},
   "source": [
    "#### 3. Find the total number of fatalities for each crash type."
   ]
  },
  {
   "cell_type": "code",
   "execution_count": 31,
   "metadata": {},
   "outputs": [],
   "source": [
    "# use CAST to change the datatype of \"Total Fats\" Column \n",
    "crash_df = crash_df.withColumn(\"Total Fats\",F.col(\"Total Fats\").cast(IntegerType()))\n",
    "\n",
    "# display(crash_df)"
   ]
  },
  {
   "cell_type": "code",
   "execution_count": 32,
   "metadata": {},
   "outputs": [
    {
     "name": "stdout",
     "output_type": "stream",
     "text": [
      "+--------------------+--------------------------+\n",
      "|          Crash Type|Total number of fatalities|\n",
      "+--------------------+--------------------------+\n",
      "|           Roll Over|                        57|\n",
      "|  Hit Object on Road|                         2|\n",
      "|      Hit Pedestrian|                        70|\n",
      "|    Hit Fixed Object|                       152|\n",
      "|               Other|                         2|\n",
      "|          Side Swipe|                        20|\n",
      "|             Head On|                        86|\n",
      "|  Hit Parked Vehicle|                         9|\n",
      "|          Right Turn|                        18|\n",
      "|            Rear End|                        16|\n",
      "|          Hit Animal|                         4|\n",
      "|Left Road - Out o...|                         1|\n",
      "|         Right Angle|                        45|\n",
      "+--------------------+--------------------------+\n",
      "\n"
     ]
    }
   ],
   "source": [
    "crash_df_sum = crash_df.groupby(\"Crash Type\").agg(F.sum(\"Total Fats\").alias('Total number of fatalities'))\n",
    "\n",
    "crash_df_sum.show(crash_df_sum.count())"
   ]
  },
  {
   "cell_type": "markdown",
   "metadata": {},
   "source": [
    "#### 4. Find the total number of casualties for each suburb when the vehicle was driven by an unlicensed driver. You are required to display the name of the suburb and the total number of casualties."
   ]
  },
  {
   "cell_type": "code",
   "execution_count": 33,
   "metadata": {},
   "outputs": [
    {
     "name": "stdout",
     "output_type": "stream",
     "text": [
      "+--------------------+--------------------------+\n",
      "|              Suburb|Total number of casualties|\n",
      "+--------------------+--------------------------+\n",
      "|       FLINDERS PARK|                         8|\n",
      "|        POOGINAGORIC|                         1|\n",
      "|      TEA TREE GULLY|                         1|\n",
      "|             HACKHAM|                         3|\n",
      "|    MEDINDIE GARDENS|                         0|\n",
      "|            WISANGER|                         1|\n",
      "|             CUMMINS|                         0|\n",
      "|        BASKET RANGE|                         0|\n",
      "| MURRAY BRIDGE SOUTH|                         0|\n",
      "|       GILLES PLAINS|                         7|\n",
      "|              HAWKER|                         0|\n",
      "|            BEAUFORT|                         1|\n",
      "|              MAGILL|                         7|\n",
      "|             ECHUNGA|                         1|\n",
      "|             CULTANA|                         1|\n",
      "|         EDWARDSTOWN|                         6|\n",
      "|         RISDON PARK|                         1|\n",
      "|           THORNGATE|                         1|\n",
      "|        ANDREWS FARM|                        12|\n",
      "|        TORRENSVILLE|                         5|\n",
      "|             TUSMORE|                         0|\n",
      "|            SEACLIFF|                         0|\n",
      "|           CLARENDON|                         0|\n",
      "|           FREWVILLE|                         0|\n",
      "|            PENFIELD|                         6|\n",
      "|           ROSE PARK|                         0|\n",
      "|          UNLEY PARK|                         0|\n",
      "|         WALKER FLAT|                         1|\n",
      "|           GLADSTONE|                         0|\n",
      "|          TATACHILLA|                         1|\n",
      "|       LITTLEHAMPTON|                         1|\n",
      "|             HALBURY|                         1|\n",
      "|          QUEENSTOWN|                         0|\n",
      "|               BERRI|                         3|\n",
      "|     TRINITY GARDENS|                         1|\n",
      "|         LINDEN PARK|                         1|\n",
      "|             KORUNYE|                         2|\n",
      "|        EVERARD PARK|                         1|\n",
      "|          GEORGETOWN|                         2|\n",
      "|     KENSINGTON PARK|                         2|\n",
      "|           NURIOOTPA|                         1|\n",
      "|             FINNISS|                         2|\n",
      "|           NANGWARRY|                         1|\n",
      "|     SALISBURY NORTH|                         9|\n",
      "|             IWANTJA|                         2|\n",
      "|            MONBULLA|                         0|\n",
      "|             COMPTON|                         0|\n",
      "|      EVANSTON SOUTH|                         0|\n",
      "|      SALISBURY EAST|                        16|\n",
      "|            WILLUNGA|                         1|\n",
      "|          WILLAMULKA|                         1|\n",
      "|         ALBERT PARK|                         2|\n",
      "|               AMATA|                         1|\n",
      "|          KANGARILLA|                         7|\n",
      "|    MUNNO PARA DOWNS|                         2|\n",
      "|           WOODVILLE|                         1|\n",
      "|          NARACOORTE|                         2|\n",
      "|              COWELL|                         1|\n",
      "|             NORWOOD|                         4|\n",
      "|           KOONAMORE|                         0|\n",
      "|               OLARY|                         0|\n",
      "|       RENMARK SOUTH|                         1|\n",
      "|               CAVAN|                         1|\n",
      "|            GLENUNGA|                         0|\n",
      "|       CRYSTAL BROOK|                         0|\n",
      "|         BEULAH PARK|                         4|\n",
      "|            PROSPECT|                        14|\n",
      "|             MALVERN|                         0|\n",
      "|    CLARENCE GARDENS|                         2|\n",
      "|             CROYDON|                         4|\n",
      "|        COLLEGE PARK|                         2|\n",
      "|         HECTORVILLE|                         0|\n",
      "|              BURTON|                        10|\n",
      "|          WARNERTOWN|                         1|\n",
      "|         SEFTON PARK|                         0|\n",
      "|          COWANDILLA|                         1|\n",
      "|      WEST HINDMARSH|                         3|\n",
      "|               YUNTA|                         3|\n",
      "|              HAINES|                         2|\n",
      "|              GAWLER|                         1|\n",
      "|       CLOVELLY PARK|                         1|\n",
      "|     ELIZABETH NORTH|                         6|\n",
      "|   HUNTFIELD HEIGHTS|                         3|\n",
      "|    BROWN HILL CREEK|                         0|\n",
      "|           PENNESHAW|                         1|\n",
      "|        NORTH MOONTA|                         0|\n",
      "|      SEMAPHORE PARK|                         2|\n",
      "|     ELIZABETH GROVE|                         9|\n",
      "|             UNDALYA|                         3|\n",
      "|       ENCOUNTER BAY|                         1|\n",
      "|          MOUNT MARY|                         1|\n",
      "|     NOARLUNGA DOWNS|                         2|\n",
      "|              FINDON|                         6|\n",
      "|      WOODVILLE WEST|                         3|\n",
      "|            HIGHBURY|                         1|\n",
      "|        GREEN FIELDS|                         2|\n",
      "|            MAITLAND|                         1|\n",
      "|             JERICHO|                         0|\n",
      "|           FORRESTON|                         1|\n",
      "|         CAREY GULLY|                         1|\n",
      "|          NAILSWORTH|                         2|\n",
      "|                EYRE|                         5|\n",
      "|               UMUWA|                         0|\n",
      "|             ENFIELD|                        12|\n",
      "|            PANORAMA|                         0|\n",
      "|          PENNINGTON|                         1|\n",
      "|          TANTANOOLA|                         0|\n",
      "|        FARRELL FLAT|                         0|\n",
      "|        SAMPSON FLAT|                         1|\n",
      "|       FERRYDEN PARK|                         2|\n",
      "|        GAWLER SOUTH|                         3|\n",
      "|            PARKSIDE|                         5|\n",
      "|             ALDINGA|                         3|\n",
      "|           TODMORDEN|                         1|\n",
      "|           MCCRACKEN|                         0|\n",
      "|    WHYALLA PLAYFORD|                         3|\n",
      "|            HAWTHORN|                         1|\n",
      "|             CALOOTE|                         0|\n",
      "|        PIPALYATJARA|                         3|\n",
      "|       MURRAY BRIDGE|                         7|\n",
      "|            NEW PORT|                         0|\n",
      "|LINCOLN NATIONAL ...|                         0|\n",
      "|   HAMPSTEAD GARDENS|                         0|\n",
      "|           LOUTH BAY|                         1|\n",
      "|        OAKDEN HILLS|                         1|\n",
      "|         ROXBY DOWNS|                         2|\n",
      "|               YAMBA|                         1|\n",
      "|           ST MORRIS|                         0|\n",
      "|      PAYNEHAM SOUTH|                         0|\n",
      "|  COMMISSARIAT POINT|                         2|\n",
      "|           RIDLEYTON|                         3|\n",
      "|            PASADENA|                         2|\n",
      "|     ELIZABETH DOWNS|                         6|\n",
      "|           HILLCREST|                         0|\n",
      "|        MELROSE PARK|                         5|\n",
      "|              PENONG|                         1|\n",
      "|            MEDINDIE|                         3|\n",
      "|             FITZROY|                         4|\n",
      "|          LIGHTSVIEW|                         0|\n",
      "|        CROYDON PARK|                         1|\n",
      "|          MUNNO PARA|                        10|\n",
      "|      CHRISTIE DOWNS|                         5|\n",
      "|           VALE PARK|                         2|\n",
      "|           ROSTREVOR|                         1|\n",
      "|          SMITHFIELD|                         6|\n",
      "|       ALDINGA BEACH|                         2|\n",
      "|       SEPPELTSFIELD|                         0|\n",
      "|           ELIZABETH|                         3|\n",
      "|            ST MARYS|                         6|\n",
      "|               UNLEY|                         2|\n",
      "|     WALKLEY HEIGHTS|                         3|\n",
      "|            GLENSIDE|                         2|\n",
      "|          MANNINGHAM|                         0|\n",
      "|          CALLINGTON|                         4|\n",
      "|     UPPER HERMITAGE|                         0|\n",
      "|           GREENWITH|                         1|\n",
      "|          COFFIN BAY|                         1|\n",
      "|      ABERFOYLE PARK|                         1|\n",
      "|           ARDROSSAN|                         0|\n",
      "|       PORT WILLUNGA|                         0|\n",
      "|        REDWOOD PARK|                         2|\n",
      "|        PORT LINCOLN|                         2|\n",
      "|             WESTALL|                         1|\n",
      "|            NALYAPPA|                         1|\n",
      "|      ELIZABETH VALE|                         4|\n",
      "|     EDINBURGH NORTH|                         1|\n",
      "|            PARADISE|                         4|\n",
      "|     WINDSOR GARDENS|                         2|\n",
      "|       MONARTO SOUTH|                         3|\n",
      "|             OSBORNE|                         3|\n",
      "|         MOUNT BRYAN|                         2|\n",
      "|            GOMERSAL|                         0|\n",
      "|         RIVERGLADES|                         1|\n",
      "|        GOOLWA BEACH|                         1|\n",
      "|     LEAWOOD GARDENS|                         3|\n",
      "|          PORT PIRIE|                         0|\n",
      "|   WILD HORSE PLAINS|                         1|\n",
      "|           DRY CREEK|                        18|\n",
      "|                YAHL|                         1|\n",
      "|             TELOWIE|                         0|\n",
      "|         DERNANCOURT|                         2|\n",
      "|           UNDERDALE|                         1|\n",
      "|        GOLDEN GROVE|                         3|\n",
      "|        OLD REYNELLA|                         1|\n",
      "|         KIDMAN PARK|                         2|\n",
      "|      PORT WAKEFIELD|                         1|\n",
      "|        CAMPBELLTOWN|                         2|\n",
      "|      FITZGERALD BAY|                         1|\n",
      "|     SEAFORD MEADOWS|                         4|\n",
      "|    PORT PIRIE SOUTH|                         2|\n",
      "|          DARLINGTON|                         1|\n",
      "|          GREENACRES|                         1|\n",
      "|            INNESTON|                         2|\n",
      "|             KAINTON|                         0|\n",
      "|             MODBURY|                         2|\n",
      "|           HEATHPOOL|                         0|\n",
      "|             CRAFERS|                         1|\n",
      "|              NETLEY|                         1|\n",
      "|               CLARE|                         0|\n",
      "|ANANGU PITJANTJAT...|                         0|\n",
      "|            MILE END|                         6|\n",
      "|              KADINA|                         1|\n",
      "|              ERINGA|                         1|\n",
      "|           WORROLONG|                         0|\n",
      "|    EIGHT MILE CREEK|                         1|\n",
      "|           CRAIGMORE|                         2|\n",
      "|     ALLENBY GARDENS|                         2|\n",
      "|      HORSNELL GULLY|                         0|\n",
      "|        BEDFORD PARK|                        11|\n",
      "|        ROYSTON PARK|                         1|\n",
      "|            ASHVILLE|                         2|\n",
      "|                BUTE|                         0|\n",
      "|         BLAIR ATHOL|                         3|\n",
      "|         RENOWN PARK|                         2|\n",
      "|             TOTNESS|                         4|\n",
      "|             MYPONGA|                         4|\n",
      "|             CLELAND|                         1|\n",
      "|           WARD BELT|                         1|\n",
      "|             TANUNDA|                         1|\n",
      "|      MANSFIELD PARK|                         0|\n",
      "|      CHAIN OF PONDS|                         6|\n",
      "|              OAKDEN|                         4|\n",
      "|          BORDERTOWN|                         3|\n",
      "|            NANGKITA|                         2|\n",
      "|              CARAWA|                         2|\n",
      "|  KENSINGTON GARDENS|                         0|\n",
      "|              JOSLIN|                         0|\n",
      "|            KILKENNY|                         0|\n",
      "|          YANKALILLA|                         0|\n",
      "|          KINGS PARK|                         0|\n",
      "|     WATERFALL GULLY|                         0|\n",
      "|             OTTOWAY|                         1|\n",
      "|          TROTT PARK|                         1|\n",
      "|             ASHFORD|                         1|\n",
      "|           WYNN VALE|                         6|\n",
      "|      CHANDLERS HILL|                         1|\n",
      "|        TORRENS PARK|                         4|\n",
      "|         PEWSEY VALE|                         4|\n",
      "|       NOVAR GARDENS|                         2|\n",
      "|       MOSQUITO HILL|                         0|\n",
      "|       PORT ADELAIDE|                         4|\n",
      "|    GULFVIEW HEIGHTS|                         0|\n",
      "|       MOUNT TORRENS|                         0|\n",
      "|      ELIZABETH EAST|                         9|\n",
      "|           MILLICENT|                         2|\n",
      "|        WILLIAMSTOWN|                         2|\n",
      "|           MILLBROOK|                         1|\n",
      "|          KENSINGTON|                         2|\n",
      "|             TAPEROO|                         2|\n",
      "|             KEPPOCH|                         1|\n",
      "|            VIRGINIA|                         3|\n",
      "|        CUDLEE CREEK|                         2|\n",
      "|            DAW PARK|                         0|\n",
      "|    SEACOMBE HEIGHTS|                         0|\n",
      "|             MONARTO|                         0|\n",
      "|             BARMERA|                         0|\n",
      "|              MARION|                         4|\n",
      "|           NEPABUNNA|                         1|\n",
      "|               KUDLA|                         2|\n",
      "|            HILLBANK|                         1|\n",
      "|          PARA HILLS|                         4|\n",
      "|        BRAHMA LODGE|                         2|\n",
      "|       OAKLANDS PARK|                         3|\n",
      "|     SALISBURY PLAIN|                        10|\n",
      "|        MOUNT BARKER|                        10|\n",
      "|              ARMAGH|                         1|\n",
      "|           COONDAMBO|                         0|\n",
      "|             PENRICE|                         1|\n",
      "|       TOTHILL CREEK|                         1|\n",
      "|              VERDUN|                         1|\n",
      "|            BRINKLEY|                         0|\n",
      "|          INGLE FARM|                        11|\n",
      "|          CLAY WELLS|                         1|\n",
      "|       MITCHELL PARK|                         5|\n",
      "|            LENSWOOD|                         0|\n",
      "|     PARA HILLS WEST|                         9|\n",
      "|            WAIKERIE|                         1|\n",
      "|           KONGORONG|                         1|\n",
      "|       SELLICKS HILL|                         1|\n",
      "|             URRBRAE|                         2|\n",
      "|          ASCOT PARK|                         2|\n",
      "|    GLOBE DERBY PARK|                         3|\n",
      "|               FIELD|                         1|\n",
      "|     CHRISTIES BEACH|                         2|\n",
      "|   SALISBURY HEIGHTS|                         1|\n",
      "|            HAHNDORF|                         2|\n",
      "|       RENMARK NORTH|                         1|\n",
      "|               SEDAN|                         4|\n",
      "|ANANGU PITJANTJAT...|                         2|\n",
      "|      TOORAK GARDENS|                         0|\n",
      "|              PALMER|                         2|\n",
      "|       VICTOR HARBOR|                         3|\n",
      "|         GAWLER EAST|                         1|\n",
      "|            INKERMAN|                         2|\n",
      "|         TAILEM BEND|                         1|\n",
      "|         VALLEY VIEW|                         6|\n",
      "|          POLTALLOCH|                         1|\n",
      "|  KINGSTON ON MURRAY|                         1|\n",
      "|           TWO WELLS|                         2|\n",
      "|        HALLETT COVE|                         3|\n",
      "|           MILLSWOOD|                         0|\n",
      "|            BROWNLOW|                         0|\n",
      "|             KILBURN|                         2|\n",
      "|      WOODVILLE PARK|                         2|\n",
      "|         GAWLER WEST|                         3|\n",
      "|              NEWTON|                         1|\n",
      "|              BINNUM|                         1|\n",
      "|           WINGFIELD|                         6|\n",
      "|         WALKERVILLE|                         2|\n",
      "|     O'HALLORAN HILL|                         3|\n",
      "|       NORTON SUMMIT|                         0|\n",
      "|    KESWICK TERMINAL|                         1|\n",
      "|       DOUGLAS POINT|                         1|\n",
      "|      ELIZABETH PARK|                        10|\n",
      "|           HINDMARSH|                         2|\n",
      "|           BALHANNAH|                         4|\n",
      "|          PIKE RIVER|                         0|\n",
      "|           BEACHPORT|                         1|\n",
      "|             MEADOWS|                         5|\n",
      "|         STREAKY BAY|                         0|\n",
      "|            SPALDING|                         0|\n",
      "|            SNOWTOWN|                         1|\n",
      "|             GLOSSOP|                         3|\n",
      "|              HASLAM|                         1|\n",
      "|              GOOLWA|                         1|\n",
      "|         LARGS NORTH|                         2|\n",
      "|      WALLAROO MINES|                         0|\n",
      "|         WHITES FLAT|                         0|\n",
      "|             PARILLA|                         0|\n",
      "|       HOSKIN CORNER|                         0|\n",
      "|         GAWLER BELT|                         0|\n",
      "|       BUCKLAND PARK|                         1|\n",
      "|             MALLALA|                         1|\n",
      "|            PAYNEHAM|                         5|\n",
      "|     WATERLOO CORNER|                         6|\n",
      "|          RIDGEHAVEN|                         0|\n",
      "|            BROMPTON|                         2|\n",
      "|          SUMMERTOWN|                         4|\n",
      "|          ROYAL PARK|                         1|\n",
      "|   RISDON PARK SOUTH|                         1|\n",
      "|         BRIDGEWATER|                         2|\n",
      "|        PORT RICKABY|                         1|\n",
      "|               BOWER|                         1|\n",
      "|     WOODVILLE SOUTH|                         1|\n",
      "|              SEDDON|                         0|\n",
      "|            ADELAIDE|                        19|\n",
      "|            LONSDALE|                         5|\n",
      "|           TUMBY BAY|                         0|\n",
      "|           SALISBURY|                        18|\n",
      "|        KANGAROO INN|                         2|\n",
      "|     WESTBOURNE PARK|                         1|\n",
      "|        HENLEY BEACH|                         1|\n",
      "|            MERRITON|                         0|\n",
      "|             KAPUNDA|                         3|\n",
      "|            TIATUKIA|                         2|\n",
      "|               BURRA|                         7|\n",
      "|           GREENHILL|                         0|\n",
      "|    HINDMARSH VALLEY|                         2|\n",
      "|            CUNLIFFE|                         1|\n",
      "|           FULLARTON|                         0|\n",
      "|     WHYALLA JENKINS|                         1|\n",
      "|             HARTLEY|                         3|\n",
      "|       SOMERTON PARK|                         3|\n",
      "|             LINWOOD|                         1|\n",
      "|           EDINBURGH|                         2|\n",
      "|             POORAKA|                         2|\n",
      "|      SELLICKS BEACH|                         0|\n",
      "|   ONKAPARINGA HILLS|                         7|\n",
      "|          ATHELSTONE|                         0|\n",
      "|               TRURO|                         0|\n",
      "|        MCLAREN FLAT|                         1|\n",
      "|            RICHMOND|                         1|\n",
      "|              AUBURN|                         1|\n",
      "|         GEPPS CROSS|                         4|\n",
      "|          BIRKENHEAD|                         2|\n",
      "|           TUNGKILLO|                         0|\n",
      "|     COCKATOO VALLEY|                         0|\n",
      "|          ST GEORGES|                         1|\n",
      "|       KURRALTA PARK|                         2|\n",
      "|        MOUNT GEORGE|                         1|\n",
      "|     SALISBURY SOUTH|                        11|\n",
      "|           FELIXSTOW|                         2|\n",
      "|            CONDOWIE|                         0|\n",
      "|       WEST RICHMOND|                         1|\n",
      "|              BELAIR|                         1|\n",
      "|             PUKATJA|                         3|\n",
      "|            STIRLING|                         1|\n",
      "|           KENT TOWN|                         4|\n",
      "|      CURRENCY CREEK|                         5|\n",
      "|       PORTER LAGOON|                         1|\n",
      "|       ONE TREE HILL|                         2|\n",
      "|             CALOMBA|                         0|\n",
      "|         PARIS CREEK|                         1|\n",
      "|           BURR WELL|                         0|\n",
      "|           TOOPERANG|                         1|\n",
      "|       MORPHETTVILLE|                         3|\n",
      "|             LAMEROO|                         2|\n",
      "|               DIREK|                         4|\n",
      "|         PORT ELLIOT|                         1|\n",
      "|      SALISBURY PARK|                         0|\n",
      "|           THE PINES|                         1|\n",
      "|        ROSSLYN PARK|                         1|\n",
      "|            EVANSTON|                         1|\n",
      "|        REGENCY PARK|                         3|\n",
      "|      HAZELWOOD PARK|                         2|\n",
      "|           WILLASTON|                         0|\n",
      "|      FULHAM GARDENS|                         2|\n",
      "|           ST PETERS|                         1|\n",
      "|           PARACOMBE|                         3|\n",
      "|             CASSINI|                         1|\n",
      "|         COLLINSWOOD|                         2|\n",
      "|            LOBETHAL|                         0|\n",
      "|    PENFIELD GARDENS|                         3|\n",
      "|         DUDLEY PARK|                         0|\n",
      "|             RENMARK|                         0|\n",
      "|      SOUTH PLYMPTON|                         8|\n",
      "|        PORT AUGUSTA|                         3|\n",
      "|          ANNA CREEK|                         0|\n",
      "|           PAECHTOWN|                         0|\n",
      "|   PARAFIELD GARDENS|                         7|\n",
      "|          SWAN REACH|                         2|\n",
      "|        SEAFORD RISE|                         3|\n",
      "|         GLEN OSMOND|                         1|\n",
      "|           SEMAPHORE|                         1|\n",
      "|              HENDON|                         0|\n",
      "|     PORT PIRIE WEST|                         0|\n",
      "|        SHEIDOW PARK|                         1|\n",
      "|           CLEARVIEW|                         0|\n",
      "|        LOXTON NORTH|                         0|\n",
      "|              ASHTON|                         0|\n",
      "|            BRIGHTON|                         2|\n",
      "|        CRAFERS WEST|                         1|\n",
      "|            TRANMERE|                         6|\n",
      "|              SEATON|                         8|\n",
      "|        SURREY DOWNS|                         0|\n",
      "|     CUMBERLAND PARK|                         0|\n",
      "|             BORRIKA|                         0|\n",
      "|          SUTTONTOWN|                         3|\n",
      "|            SOUTHEND|                         1|\n",
      "|            IRONBANK|                         0|\n",
      "|            ST AGNES|                         2|\n",
      "|          WEST BEACH|                         0|\n",
      "|              LYNTON|                         0|\n",
      "|             BETHANY|                         1|\n",
      "|         WIGLEY FLAT|                         1|\n",
      "|            DAWESLEY|                         5|\n",
      "|             ANDREWS|                         0|\n",
      "|COLONEL LIGHT GAR...|                         0|\n",
      "|           GLANVILLE|                         1|\n",
      "|          GLENGOWRIE|                         1|\n",
      "|             STEPNEY|                         5|\n",
      "|          WEST LAKES|                         4|\n",
      "|     SALISBURY DOWNS|                        11|\n",
      "|    MIDDLEBACK RANGE|                         1|\n",
      "|      PORT NOARLUNGA|                         4|\n",
      "|           BLACKWOOD|                         1|\n",
      "|        GOOLWA SOUTH|                         0|\n",
      "|      SOUTH BRIGHTON|                         1|\n",
      "|           PADTHAWAY|                         0|\n",
      "|               FIRLE|                         1|\n",
      "|               VISTA|                         0|\n",
      "|          WINNINOWIE|                         0|\n",
      "|          MANNANARIE|                         2|\n",
      "|       LOWER MITCHAM|                         0|\n",
      "|          WILMINGTON|                         4|\n",
      "|         FORESTVILLE|                         1|\n",
      "|           YORKETOWN|                         2|\n",
      "|           STOCKPORT|                         1|\n",
      "|          ATHOL PARK|                         1|\n",
      "|             DULWICH|                         0|\n",
      "| MURRAY BRIDGE NORTH|                         1|\n",
      "|           NILDOTTIE|                         2|\n",
      "|   SMITHFIELD PLAINS|                         2|\n",
      "|            ULEYBURY|                         0|\n",
      "|  MURRAY BRIDGE EAST|                         1|\n",
      "|              GRANGE|                         1|\n",
      "|              MOORAK|                         0|\n",
      "|              CEDUNA|                         2|\n",
      "|             HILLIER|                         3|\n",
      "|           INGLEWOOD|                         0|\n",
      "|             GLENELG|                         1|\n",
      "|      ALLENDALE EAST|                         1|\n",
      "|        GLENELG EAST|                         2|\n",
      "|            CONMURRA|                         1|\n",
      "|          POINT PASS|                         0|\n",
      "|            WALLAROO|                         2|\n",
      "|              MARINO|                         1|\n",
      "|            HIGHGATE|                         0|\n",
      "|            PINNAROO|                         2|\n",
      "|        HAWTHORNDENE|                         0|\n",
      "|                HOVE|                         1|\n",
      "|      NORTH PLYMPTON|                         1|\n",
      "|            LEABROOK|                         1|\n",
      "|           TINTINARA|                         0|\n",
      "|      WHYALLA NORRIE|                         7|\n",
      "|       EVANSTON PARK|                         3|\n",
      "|       BROOKLYN PARK|                         7|\n",
      "|           KERSBROOK|                         1|\n",
      "|         LOWER LIGHT|                         1|\n",
      "|    O'SULLIVAN BEACH|                         2|\n",
      "|            ALBERTON|                         2|\n",
      "|        CYGNET RIVER|                         1|\n",
      "|            REYNELLA|                         1|\n",
      "|              GLYNDE|                         2|\n",
      "|        HACKHAM WEST|                         6|\n",
      "|             BOLIVAR|                         3|\n",
      "|      NORTH ADELAIDE|                        13|\n",
      "|              NAIRNE|                         2|\n",
      "|     COROMANDEL EAST|                         1|\n",
      "|         HOLDEN HILL|                         9|\n",
      "|        MASLIN BEACH|                         2|\n",
      "|            MINGBOOL|                         1|\n",
      "|         ROCKY GULLY|                         1|\n",
      "|          NORTHFIELD|                         2|\n",
      "|            MONTEITH|                         0|\n",
      "|     LANGHORNE CREEK|                         1|\n",
      "|             CHAFFEY|                         1|\n",
      "|           KINGSCOTE|                         0|\n",
      "|          CHELTENHAM|                         4|\n",
      "|         HOPE VALLEY|                         0|\n",
      "|          ROSEWORTHY|                         6|\n",
      "|        MCLAREN VALE|                         5|\n",
      "|            LOCHABER|                         1|\n",
      "|        HAPPY VALLEY|                         5|\n",
      "|            ANGASTON|                         2|\n",
      "|            OVINGHAM|                         1|\n",
      "|        DAVOREN PARK|                         8|\n",
      "|            BEVERLEY|                         1|\n",
      "|       OLD NOARLUNGA|                         2|\n",
      "|            TENNYSON|                         1|\n",
      "|            MAYLANDS|                         2|\n",
      "|            FREELING|                         3|\n",
      "|     SEMAPHORE SOUTH|                         5|\n",
      "|        MCHARG CREEK|                         2|\n",
      "|       MORPHETT VALE|                        10|\n",
      "|      NORTH BRIGHTON|                         0|\n",
      "|          ANGLE PARK|                         0|\n",
      "|               LYRUP|                         0|\n",
      "|           NORTHGATE|                         0|\n",
      "|  HENLEY BEACH SOUTH|                         2|\n",
      "|PORT NOARLUNGA SOUTH|                         1|\n",
      "|         YATALA VALE|                         1|\n",
      "|              BOWDEN|                         1|\n",
      "|         POINT STURT|                         1|\n",
      "|      MILE END SOUTH|                         1|\n",
      "|  LOWER INMAN VALLEY|                         2|\n",
      "|      MOUNT CRAWFORD|                         1|\n",
      "|       SEACLIFF PARK|                         0|\n",
      "|         SOLOMONTOWN|                         0|\n",
      "|             KULPARA|                         1|\n",
      "|         NORMANVILLE|                         1|\n",
      "|        MAWSON LAKES|                        10|\n",
      "|       MODBURY NORTH|                         3|\n",
      "|             WELLAND|                         1|\n",
      "|             KLEMZIG|                         6|\n",
      "|           WARRADALE|                         6|\n",
      "|          PARA VISTA|                         2|\n",
      "|         OLYMPIC DAM|                         1|\n",
      "|               BOLTO|                         0|\n",
      "|       MCDOUALL PEAK|                         1|\n",
      "|            LOCKLEYS|                         1|\n",
      "|   WOODVILLE GARDENS|                         4|\n",
      "|      STIRLING NORTH|                         3|\n",
      "|           PARALOWIE|                         4|\n",
      "|              MARDEN|                         3|\n",
      "|     MUNNO PARA WEST|                         1|\n",
      "|     PORT MACDONNELL|                         1|\n",
      "|     OVERLAND CORNER|                         2|\n",
      "|     ELIZABETH SOUTH|                         8|\n",
      "|      FLAGSTAFF HILL|                         3|\n",
      "|             ETTRICK|                         1|\n",
      "|             SEAFORD|                         2|\n",
      "|         GOULD CREEK|                         0|\n",
      "|           JAMESTOWN|                         1|\n",
      "|                 APY|                         3|\n",
      "|            ETHELTON|                         1|\n",
      "|       MOUNT GAMBIER|                         8|\n",
      "|          MOONTA BAY|                         0|\n",
      "|          ANGLE VALE|                         5|\n",
      "|          PARK HOLME|                         4|\n",
      "|           ROSEWATER|                         1|\n",
      "|              HILTON|                         1|\n",
      "|           HYDE PARK|                         0|\n",
      "|         MYRTLE BANK|                         0|\n",
      "|             WHYALLA|                         1|\n",
      "|          YATTALUNGA|                         3|\n",
      "|            MENINGIE|                         2|\n",
      "|       FAIRVIEW PARK|                         0|\n",
      "|      WHYALLA STUART|                         4|\n",
      "|           LARGS BAY|                         2|\n",
      "|             KESWICK|                         1|\n",
      "|             WINDSOR|                         2|\n",
      "|           BIBARINGA|                         1|\n",
      "|            KALBEEBA|                         0|\n",
      "|    NOARLUNGA CENTRE|                         1|\n",
      "|            HOUGHTON|                         3|\n",
      "|            ANNADALE|                         1|\n",
      "|       GLENELG SOUTH|                         1|\n",
      "|               STURT|                         6|\n",
      "|   PORT AUGUSTA WEST|                         2|\n",
      "|                ALMA|                         0|\n",
      "|            BOOKABIE|                         1|\n",
      "|         CAMDEN PARK|                         1|\n",
      "|             HALLETT|                         0|\n",
      "|     WOODVILLE NORTH|                         2|\n",
      "|              LOXTON|                         1|\n",
      "|       REEVES PLAINS|                         0|\n",
      "|          ROCKY CAMP|                         2|\n",
      "|              FULHAM|                         0|\n",
      "|              STRUAN|                         0|\n",
      "|           THEBARTON|                         1|\n",
      "|         COOBER PEDY|                         7|\n",
      "|             HACKNEY|                         2|\n",
      "|            BIRDWOOD|                         0|\n",
      "|        MARRYATVILLE|                         2|\n",
      "|            ST CLAIR|                         3|\n",
      "|        WEST CROYDON|                         2|\n",
      "|           PARAFIELD|                         1|\n",
      "|     MODBURY HEIGHTS|                         1|\n",
      "|             PURNONG|                         1|\n",
      "|           BROADVIEW|                         5|\n",
      "|            PLYMPTON|                         9|\n",
      "|              YALATA|                         1|\n",
      "|               BLYTH|                         1|\n",
      "|        BAUDIN BEACH|                         4|\n",
      "|       HAMLEY BRIDGE|                         1|\n",
      "|       CLARENCE PARK|                         0|\n",
      "|            BRUKUNGA|                         1|\n",
      "|       MOUNT COMPASS|                         1|\n",
      "|            CRESCENT|                         1|\n",
      "|       GLENELG NORTH|                         4|\n",
      "|            GLANDORE|                         1|\n",
      "|           BLAKEVIEW|                         3|\n",
      "|            WAYVILLE|                         2|\n",
      "+--------------------+--------------------------+\n",
      "\n"
     ]
    }
   ],
   "source": [
    "# \"Licence Type\"= \"Unlicenced\"\n",
    "unit_df_4 = unit_df.filter(col(\"Licence Type\") == \"Unlicenced\")\n",
    "\n",
    "# join two dataframes\n",
    "join_df = crash_df.join(unit_df_4, crash_df.REPORT_ID== unit_df_4.REPORT_ID, how='inner')\n",
    "\n",
    "# groupby \"Suburb\", calculate \"Total Cas\", return \"Suburb\" and \"Total Cas\"\n",
    "final_df = join_df.groupby(\"Suburb\").agg(F.sum(\"Total Cas\").alias(\"Total number of casualties\"))\n",
    "\n",
    "final_df.show(final_df.count())"
   ]
  },
  {
   "cell_type": "markdown",
   "metadata": {},
   "source": [
    "<a class=\"anchor\" name=\"two3\"></a>\n",
    "## 2.3 Severity Analysis"
   ]
  },
  {
   "cell_type": "markdown",
   "metadata": {},
   "source": [
    "In this section, we want to analyze whether severity of accidents is higher when the driver is on\n",
    "drugs or alcohol compared to when the driver is normal. The severity of the crash is given by\n",
    "the column “CSEF Severity”, the three levels of severity is given below (also included in the\n",
    "Metadata file). Similarly the columns “DUI Involved” and “Drugs Involved” tell whether the\n",
    "driver has been detected with blood alcohol and drugs respectively."
   ]
  },
  {
   "cell_type": "markdown",
   "metadata": {},
   "source": [
    "Using the DataFrame for crash events, implement the following queries:"
   ]
  },
  {
   "cell_type": "markdown",
   "metadata": {},
   "source": [
    "#### 1. Find the total number of crash events for each severity level. Which severity level is the most common?"
   ]
  },
  {
   "cell_type": "code",
   "execution_count": 34,
   "metadata": {},
   "outputs": [
    {
     "name": "stdout",
     "output_type": "stream",
     "text": [
      "+-------------+----------------------------+\n",
      "|CSEF Severity|Total number of crash events|\n",
      "+-------------+----------------------------+\n",
      "|     4: Fatal|                         451|\n",
      "|        2: MI|                       21881|\n",
      "|       1: PDO|                       46696|\n",
      "|        3: SI|                        2978|\n",
      "+-------------+----------------------------+\n",
      "\n"
     ]
    }
   ],
   "source": [
    "# groupby \"CSEF Severity\", count the total number of events\n",
    "\n",
    "count_crash = crash_df.groupby(\"CSEF Severity\").agg(F.count(\"*\").alias(\"Total number of crash events\"))\n",
    "count_crash.show(count_crash.count())"
   ]
  },
  {
   "cell_type": "code",
   "execution_count": 35,
   "metadata": {},
   "outputs": [
    {
     "name": "stdout",
     "output_type": "stream",
     "text": [
      "+-------------+\n",
      "|CSEF Severity|\n",
      "+-------------+\n",
      "|       1: PDO|\n",
      "+-------------+\n",
      "only showing top 1 row\n",
      "\n"
     ]
    }
   ],
   "source": [
    "count_crash.select(\"CSEF Severity\").orderBy(\"Total number of crash events\", ascending=False).show(1)"
   ]
  },
  {
   "cell_type": "markdown",
   "metadata": {},
   "source": [
    "#### &nbsp;&nbsp; Answer:\n",
    "As shown above, the most common severity level is <strong>\"1: PDO\"</strong>."
   ]
  },
  {
   "cell_type": "markdown",
   "metadata": {},
   "source": [
    "#### 2. Compute the total number of crash events for each severity level and the percentage for the four different scenarios."
   ]
  },
  {
   "cell_type": "markdown",
   "metadata": {},
   "source": [
    "#### &nbsp;&nbsp;&nbsp;&nbsp;&nbsp; a. When the driver is tested positive on drugs."
   ]
  },
  {
   "cell_type": "code",
   "execution_count": 36,
   "metadata": {},
   "outputs": [
    {
     "name": "stdout",
     "output_type": "stream",
     "text": [
      "+-------------+-----+-------------------+\n",
      "|CSEF Severity|Count|         Percentage|\n",
      "+-------------+-----+-------------------+\n",
      "|     4: Fatal|   82|0.06539074960127592|\n",
      "|        2: MI|  749| 0.5972886762360446|\n",
      "|       1: PDO|  176|0.14035087719298245|\n",
      "|        3: SI|  247|0.19696969696969696|\n",
      "+-------------+-----+-------------------+\n",
      "\n"
     ]
    }
   ],
   "source": [
    "# \"Drugs Involved\" = \"Y\"\n",
    "drug = crash_df.filter(col(\"Drugs Involved\")==\"Y\")\n",
    "\n",
    "# groupby \"CSEF Severity\", return the total number of crash events\n",
    "count_drug = drug.groupby(\"CSEF Severity\").agg(F.count(\"*\").alias(\"Count\"))\n",
    "\n",
    "# add percentage column\n",
    "from pyspark.sql.window import Window\n",
    "count_per_drug = count_drug.withColumn(\"Percentage\", F.col(\"Count\")/F.sum(\"Count\").over(Window.partitionBy()))\n",
    "\n",
    "count_per_drug.show(count_per_drug.count())"
   ]
  },
  {
   "cell_type": "markdown",
   "metadata": {},
   "source": [
    "Ruben.L. (2018, September 10). calculating percentages on a pyspark dataframe. Retrieved from https://stackoverflow.com/questions/43968946/calculating-percentages-on-a-pyspark-dataframe/46479716"
   ]
  },
  {
   "cell_type": "markdown",
   "metadata": {},
   "source": [
    "#### &nbsp;&nbsp;&nbsp;&nbsp;&nbsp; b. When the driver is tested positive for blood alcohol concentration."
   ]
  },
  {
   "cell_type": "code",
   "execution_count": 37,
   "metadata": {},
   "outputs": [
    {
     "name": "stdout",
     "output_type": "stream",
     "text": [
      "+-------------+-----+--------------------+\n",
      "|CSEF Severity|Count|          Percentage|\n",
      "+-------------+-----+--------------------+\n",
      "|     4: Fatal|   79|0.035142348754448396|\n",
      "|        2: MI|  737|   0.327846975088968|\n",
      "|       1: PDO| 1173|   0.521797153024911|\n",
      "|        3: SI|  259|  0.1152135231316726|\n",
      "+-------------+-----+--------------------+\n",
      "\n"
     ]
    }
   ],
   "source": [
    "# \"DUI Involved\" = \"Y\"\n",
    "alcohol = crash_df.filter(col(\"DUI Involved\")==\"Y\")\n",
    "\n",
    "# groupby \"CSEF Severity\", return the total number of crash events\n",
    "count_alcohol = alcohol.groupby(\"CSEF Severity\").agg(F.count(\"*\").alias(\"Count\"))\n",
    "\n",
    "# add percentage column\n",
    "count_per_alcohol = count_alcohol.withColumn(\"Percentage\", F.col(\"Count\")/F.sum(\"Count\").over(Window.partitionBy()))\n",
    "\n",
    "count_per_alcohol.show(count_per_alcohol.count())"
   ]
  },
  {
   "cell_type": "markdown",
   "metadata": {},
   "source": [
    "#### &nbsp;&nbsp;&nbsp;&nbsp;&nbsp; c. When the driver is tested positive for both drugs and blood alcohol."
   ]
  },
  {
   "cell_type": "code",
   "execution_count": 38,
   "metadata": {},
   "outputs": [
    {
     "name": "stdout",
     "output_type": "stream",
     "text": [
      "+-------------+-----+-------------------+\n",
      "|CSEF Severity|Count|         Percentage|\n",
      "+-------------+-----+-------------------+\n",
      "|     4: Fatal|   27|0.15428571428571428|\n",
      "|        2: MI|   89| 0.5085714285714286|\n",
      "|       1: PDO|   24|0.13714285714285715|\n",
      "|        3: SI|   35|                0.2|\n",
      "+-------------+-----+-------------------+\n",
      "\n"
     ]
    }
   ],
   "source": [
    "# \"Drugs Involved\" = \"Y\" & \"DUI Involved\" = \"Y\"\n",
    "drug_alcohol = crash_df.filter((col(\"Drugs Involved\")==\"Y\") & (col(\"DUI Involved\")==\"Y\"))\n",
    "\n",
    "# groupby \"CSEF Severity\", return the total number of crash events\n",
    "count_drug_alcohol = drug_alcohol.groupby(\"CSEF Severity\").agg(F.count(\"*\").alias(\"Count\"))\n",
    "\n",
    "# add percentage column\n",
    "count_per_drug_alcohol = count_drug_alcohol.withColumn(\"Percentage\", F.col(\"Count\")/F.sum(\"Count\").over(Window.partitionBy()))\n",
    "\n",
    "count_per_drug_alcohol.show(count_per_drug_alcohol.count())"
   ]
  },
  {
   "cell_type": "markdown",
   "metadata": {},
   "source": [
    "#### &nbsp;&nbsp;&nbsp;&nbsp;&nbsp; d. When the driver is tested negative for both (no alcohol and no drugs)."
   ]
  },
  {
   "cell_type": "code",
   "execution_count": 39,
   "metadata": {},
   "outputs": [
    {
     "name": "stdout",
     "output_type": "stream",
     "text": [
      "+-------------+-----+--------------------+\n",
      "|CSEF Severity|Count|          Percentage|\n",
      "+-------------+-----+--------------------+\n",
      "|     4: Fatal|  317| 0.00461567582521586|\n",
      "|        2: MI|20484| 0.29825710916000525|\n",
      "|       1: PDO|45371|  0.6606240626683557|\n",
      "|        3: SI| 2507|0.036503152346423214|\n",
      "+-------------+-----+--------------------+\n",
      "\n"
     ]
    }
   ],
   "source": [
    "# \"Drugs Involved\" != \"Y\" & \"DUI Involved\" != \"Y\"\n",
    "drug_alcohol_x = crash_df.filter((col(\"Drugs Involved\").isNull()) & (col(\"DUI Involved\").isNull()))\n",
    "\n",
    "# groupby \"CSEF Severity\", return the total number of crash events\n",
    "count_drug_alcohol_x = drug_alcohol_x.groupby(\"CSEF Severity\").agg(F.count(\"*\").alias(\"Count\"))\n",
    "\n",
    "# add percentage column\n",
    "count_per_drug_alcohol_x = count_drug_alcohol_x.withColumn(\"Percentage\", F.col(\"Count\")/F.sum(\"Count\").over(Window.partitionBy()))\n",
    "\n",
    "count_per_drug_alcohol_x.show(count_per_drug_alcohol_x.count())"
   ]
  },
  {
   "cell_type": "markdown",
   "metadata": {},
   "source": [
    "Steven. (2017, December 28). How to filter null values in pyspark dataframe?. Retrieved from https://stackoverflow.com/questions/48008691/how-to-filter-null-values-in-pyspark-dataframe"
   ]
  },
  {
   "cell_type": "markdown",
   "metadata": {},
   "source": [
    "#### &nbsp;&nbsp;&nbsp;&nbsp;&nbsp; Compare the results in these 4 scenarios. Briefly explain the observation from this analysis."
   ]
  },
  {
   "cell_type": "code",
   "execution_count": 40,
   "metadata": {},
   "outputs": [
    {
     "name": "stdout",
     "output_type": "stream",
     "text": [
      "+--------------+--------+------+-------+-------+\n",
      "|Severity Level|On Drugs|On Alc|On Both|On None|\n",
      "+--------------+--------+------+-------+-------+\n",
      "|        1: PDO|     176|  1173|     24|  45371|\n",
      "|         2: MI|     749|   737|     89|  20484|\n",
      "|         3: SI|     247|   259|     35|   2507|\n",
      "|      4: Fatal|      82|    79|     27|    317|\n",
      "+--------------+--------+------+-------+-------+\n",
      "\n"
     ]
    }
   ],
   "source": [
    "# rename \"Count\" column to contain each dataframe's information before joining all the dataframes\n",
    "count_drug_1 = count_drug.withColumnRenamed(\"Count\", \"On Drugs\")\n",
    "count_alcohol_1 = count_alcohol.withColumnRenamed(\"Count\",\"On Alc\")\n",
    "count_drug_alcohol_1 = count_drug_alcohol.withColumnRenamed(\"Count\",\"On Both\")\n",
    "count_drug_alcohol_x_1 = count_drug_alcohol_x.withColumnRenamed(\"Count\",\"On None\")\n",
    "\n",
    "#join\n",
    "count_join = count_drug_1.join(count_alcohol_1, [\"CSEF Severity\"])\\\n",
    "                         .join(count_drug_alcohol_1, [\"CSEF Severity\"])\\\n",
    "                         .join(count_drug_alcohol_x_1, [\"CSEF Severity\"])\n",
    "\n",
    "# rename \"CSEF Severity\" column\n",
    "count_join_final = count_join.withColumnRenamed(\"CSEF Severity\", \"Severity Level\")\n",
    "\n",
    "# sort by \"Severity Level\"\n",
    "count_join_final_sort = count_join_final.select(\"*\").sort(\"Severity Level\", ascending=True)\n",
    "\n",
    "count_join_final_sort.show(count_join_final_sort.count())"
   ]
  },
  {
   "cell_type": "code",
   "execution_count": 41,
   "metadata": {},
   "outputs": [
    {
     "data": {
      "text/plain": [
       "<matplotlib.legend.Legend at 0x7f933af25250>"
      ]
     },
     "execution_count": 41,
     "metadata": {},
     "output_type": "execute_result"
    },
    {
     "data": {
      "image/png": "[encoded data removed]",
      "text/plain": [
       "<Figure size 432x288 with 1 Axes>"
      ]
     },
     "metadata": {
      "needs_background": "light"
     },
     "output_type": "display_data"
    }
   ],
   "source": [
    "# plot\n",
    "\n",
    "# for making it easy to plot, convert a spark dataframe to pandas dataframe\n",
    "pandas_df = count_join_final_sort.toPandas()\n",
    "\n",
    "# visualise the combined data with a bar graph\n",
    "import matplotlib.pyplot as plt\n",
    "\n",
    "# Use a logarithmic scale to compare the values easily, since the gap between the values is too large \n",
    "\n",
    "pandas_df.plot(x=\"Severity Level\", kind=\"bar\", log=True)\n",
    "plt.ylabel(\"Total number of crash events\")\n",
    "plt.title(\"Box plot: Total number of crash events for each severity level for four scenarios\")\n",
    "plt.legend(title=\"Scenario\")"
   ]
  },
  {
   "cell_type": "markdown",
   "metadata": {},
   "source": [
    "#### &nbsp;&nbsp;  Answer:\n",
    "From the plot shown above, it seems that as the severity level increased, the total number of crash events decreased. Furthermore, the drivers who have not been detected with alcohol and drugs, caused the most crash events at all severity levels among four scenarios. However, the number of the events from the normal driver decreased significantly, as the severity level increased. Similarly, the number of the events caused by drivers on alcohol, has been decreased as the level increased. Moreover, the number of accidents caused by people who were on drugs and those who were on both alcohol and drugs increased as the severity level increased from 1 to 2, but continued to decrease thereafter. Additionally, at the lowest severity level, there was a significant gap between the number of the crash events caused by the drivers on alcohol and the drivers on drugs, however, at higher severity levels, the two types have showed very similar values. On the other hand, even though the drivers on both alcohol and drugs caused the fewest crash events at all severity levels among the scenarios, they accounted for the highest share in all scenarios at the highest severity level.  \n",
    "<br>\n",
    "Overall, it can be seen that the higher the severity level, the lower the proportion of normal drivers in the entire scenarios. Conversely, the higher the level, the higher the proportion of drivers who were on drugs or alcohol, or on both. This suggests that drivers on alcohol or/and drugs can get more damages as the severity level increases compared to normal drivers."
   ]
  },
  {
   "cell_type": "markdown",
   "metadata": {},
   "source": [
    "Zero323. (2016, July 19). Multiple consecutive join with pyspark. Retrieved from https://stackoverflow.com/questions/38468568/multiple-consecutive-join-with-pyspark"
   ]
  },
  {
   "cell_type": "markdown",
   "metadata": {},
   "source": [
    "Gaurang.S. (2018, June 21). Convert a spark DataFrame to pandas DF. Retrieved from https://stackoverflow.com/questions/50958721/convert-a-spark-dataframe-to-pandas-df"
   ]
  },
  {
   "cell_type": "markdown",
   "metadata": {},
   "source": [
    "<a class=\"anchor\" name=\"two4\"></a>\n",
    "## 2.4 RDDs vs DataFrame vs Spark SQL"
   ]
  },
  {
   "cell_type": "markdown",
   "metadata": {},
   "source": [
    "Implement the following queries using RDDs, DataFrames and SparkSQL separately. Log the\n",
    "time taken for each query in each approach using the “%%time” built-in magic command in\n",
    "Jupyter Notebook and discuss the performance difference of these 3 approaches"
   ]
  },
  {
   "cell_type": "markdown",
   "metadata": {},
   "source": [
    "#### 1. Find the Date and Time of Crash, Number of Casualties in each unit and the Gender, Age, License Type of the unit driver for the suburb \"Adelaide\". \n",
    "c.f. When displaying dates, please use the format (Year-Month-Dayofweek) E.g.(2017-January-Sunday)."
   ]
  },
  {
   "cell_type": "markdown",
   "metadata": {},
   "source": [
    "<li> RDDs </li> "
   ]
  },
  {
   "cell_type": "code",
   "execution_count": 42,
   "metadata": {},
   "outputs": [],
   "source": [
    "rdd_crash_query = rdd_crash_1.map(lambda x: x.split(','))"
   ]
  },
  {
   "cell_type": "code",
   "execution_count": 43,
   "metadata": {
    "scrolled": true
   },
   "outputs": [
    {
     "name": "stdout",
     "output_type": "stream",
     "text": [
      "CPU times: user 50.3 ms, sys: 4.27 ms, total: 54.6 ms\n",
      "Wall time: 4.99 s\n"
     ]
    },
    {
     "data": {
      "text/plain": [
       "[('2016-November-Wednesday', '04:26 pm', 0, 'Male', 17, 'Unknown'),\n",
       " ('2016-November-Wednesday', '04:26 pm', 0, 'Male', 25, 'Unknown'),\n",
       " ('2016-December-Friday', '11:30 am', 0, 'Male', 80, 'Full'),\n",
       " ('2016-December-Friday', '11:30 am', 0, 'Male', 48, 'Full'),\n",
       " ('2016-December-Saturday', '07:40 am', 0, 'Male', 32, 'Full'),\n",
       " ('2016-December-Friday', '05:30 pm', 0, 'Female', 58, 'Full'),\n",
       " ('2016-December-Friday', '05:30 pm', 0, 'Male', 41, 'Full'),\n",
       " ('2016-December-Wednesday', '04:20 pm', 0, 'Female', 45, 'Full'),\n",
       " ('2016-December-Wednesday', '04:20 pm', 0, 'Male', 27, 'Full'),\n",
       " ('2016-December-Wednesday', '04:20 pm', 0, 'Male', 41, 'Full'),\n",
       " ('2016-December-Thursday', '01:15 pm', 0, 'Female', 21, 'Full'),\n",
       " ('2016-December-Friday', '11:25 am', 0, 'Male', 23, 'Full'),\n",
       " ('2016-December-Monday', '02:50 pm', 0, 'Female', 48, 'Full'),\n",
       " ('2016-February-Sunday', '04:50 pm', 0, 'Female', 33, 'Full'),\n",
       " ('2016-June-Monday', '06:50 pm', 0, 'Female', 22, 'Full'),\n",
       " ('2016-November-Friday', '09:30 am', 0, 'Male', 63, 'Full'),\n",
       " ('2016-November-Friday', '09:30 am', 0, 'Male', 32, 'Unknown'),\n",
       " ('2016-January-Monday', '08:00 am', 0, 'Male', 78, 'Full'),\n",
       " ('2016-January-Monday', '08:00 am', 1, 'Female', 25, ''),\n",
       " ('2016-January-Sunday', '10:54 pm', 1, 'Female', 28, '')]"
      ]
     },
     "execution_count": 43,
     "metadata": {},
     "output_type": "execute_result"
    }
   ],
   "source": [
    "%%time\n",
    "\n",
    "# 1) with uncleaned data (Age)\n",
    "# Index for \"Suburb\"= 2 in Crashes RDD\n",
    "# Index for \"No of Cas\" = 2, \"Age\" = 8 in Units RDD\n",
    "\n",
    "# \"Suburb\" = \"ADELAIDE\"\n",
    "crash_ADE_ori = rdd_crash_query.filter(lambda x: x[2]==\"ADELAIDE\")\n",
    "\n",
    "# \"No of Cas\" , \"Age\" = numeric values\n",
    "unit_cas_age_ori = rdd_unit_query.filter(lambda x: x[2].isnumeric() == True and x[8].isnumeric() == True)\n",
    "\n",
    "# join two RDDs by using key value pair RDDs\n",
    "crash_join_1_ori = crash_ADE_ori.map(lambda x: (x[0],x[1:]))\n",
    "unit_join_1_ori = unit_cas_age_ori.map(lambda x: (x[0],x[1:]))\n",
    "rdd_join_1_ori = unit_join_1_ori.join(crash_join_1_ori)\n",
    "\n",
    "# Show \"Date\"= \"Year\"-\"Month\"-\"Day\", \"Time\", \"No of Cas\", \"Sex\", \"Age\", \"Licence Type\"\n",
    "final_rdd_1_ori = rdd_join_1_ori.map(lambda x : (x[1][1][9]+\"-\"+x[1][1][10]+\"-\"+x[1][1][11], x[1][1][12], int(x[1][0][1]), x[1][0][6], int(x[1][0][7]), x[1][0][10]))\n",
    "final_rdd_1_ori.take(20)"
   ]
  },
  {
   "cell_type": "code",
   "execution_count": 44,
   "metadata": {
    "scrolled": false
   },
   "outputs": [
    {
     "name": "stdout",
     "output_type": "stream",
     "text": [
      "CPU times: user 49.8 ms, sys: 7.72 ms, total: 57.5 ms\n",
      "Wall time: 3.97 s\n"
     ]
    },
    {
     "data": {
      "text/plain": [
       "[('2016-November-Wednesday', '04:26 pm', 0, 'Male', 25, 'Unknown'),\n",
       " ('2016-December-Friday', '11:30 am', 0, 'Male', 80, 'Full'),\n",
       " ('2016-December-Friday', '11:30 am', 0, 'Male', 48, 'Full'),\n",
       " ('2016-December-Saturday', '07:40 am', 0, 'Male', 32, 'Full'),\n",
       " ('2016-December-Friday', '05:30 pm', 0, 'Female', 58, 'Full'),\n",
       " ('2016-December-Friday', '05:30 pm', 0, 'Male', 41, 'Full'),\n",
       " ('2016-December-Wednesday', '04:20 pm', 0, 'Female', 45, 'Full'),\n",
       " ('2016-December-Wednesday', '04:20 pm', 0, 'Male', 27, 'Full'),\n",
       " ('2016-December-Wednesday', '04:20 pm', 0, 'Male', 41, 'Full'),\n",
       " ('2016-December-Thursday', '01:15 pm', 0, 'Female', 21, 'Full'),\n",
       " ('2016-December-Friday', '11:25 am', 0, 'Male', 23, 'Full'),\n",
       " ('2016-December-Monday', '02:50 pm', 0, 'Female', 48, 'Full'),\n",
       " ('2016-February-Sunday', '04:50 pm', 0, 'Female', 33, 'Full'),\n",
       " ('2016-June-Monday', '06:50 pm', 0, 'Female', 22, 'Full'),\n",
       " ('2016-November-Friday', '09:30 am', 0, 'Male', 63, 'Full'),\n",
       " ('2016-November-Friday', '09:30 am', 0, 'Male', 32, 'Unknown'),\n",
       " ('2016-January-Monday', '08:00 am', 0, 'Male', 78, 'Full'),\n",
       " ('2016-January-Monday', '08:00 am', 1, 'Female', 25, ''),\n",
       " ('2016-January-Sunday', '10:54 pm', 1, 'Female', 28, ''),\n",
       " ('2016-January-Tuesday', '11:40 am', 0, 'Male', 18, 'Provisional 2')]"
      ]
     },
     "execution_count": 44,
     "metadata": {},
     "output_type": "execute_result"
    }
   ],
   "source": [
    "%%time\n",
    "\n",
    "# 2) with cleaned data (Age)\n",
    "# Index for \"Suburb\"= 2 in Crashes RDD\n",
    "# Index for \"No of Cas\" = 2, \"Age\" = 8 in Units RDD\n",
    "\n",
    "# \"Suburb\" = \"ADELAIDE\"\n",
    "crash_ADE = rdd_crash_query.filter(lambda x: x[2]==\"ADELAIDE\")\n",
    "\n",
    "# \"No of Cas\" , \"Age\" = numeric values\n",
    "# Let's assume that the age limit for driving vehicles in Australia: 18 <= age <= 120\n",
    "unit_cas_age = rdd_unit_query.filter(lambda x: x[2].isnumeric() == True \n",
    "                                                and x[8].isnumeric() == True and int(x[8])>=18 and int(x[8])<=120)\n",
    "\n",
    "# join two RDDs by using key value pair RDDs\n",
    "crash_join_1 = crash_ADE.map(lambda x: (x[0],x[1:]))\n",
    "unit_join_1 = unit_cas_age.map(lambda x: (x[0],x[1:]))\n",
    "rdd_join_1 = unit_join_1.join(crash_join_1)\n",
    "\n",
    "# Show \"Date\"= \"Year\"-\"Month\"-\"Day\", \"Time\", \"No of Cas\", \"Sex\", \"Age\", \"Licence Type\"\n",
    "final_rdd_1 = rdd_join_1.map(lambda x : (x[1][1][9]+\"-\"+x[1][1][10]+\"-\"+x[1][1][11], x[1][1][12], int(x[1][0][1]), x[1][0][6], int(x[1][0][7]), x[1][0][10]))\n",
    "final_rdd_1.take(20)"
   ]
  },
  {
   "cell_type": "markdown",
   "metadata": {},
   "source": [
    "Ahajib. (2017, March 15). pyspark merge two rdd together. Retrieved from https://stackoverflow.com/questions/42800009/pyspark-merge-two-rdd-together/42800399#42800399"
   ]
  },
  {
   "cell_type": "markdown",
   "metadata": {},
   "source": [
    "<li> DataFrames </li>"
   ]
  },
  {
   "cell_type": "code",
   "execution_count": 45,
   "metadata": {},
   "outputs": [],
   "source": [
    "from pyspark.sql.functions import concat, lit"
   ]
  },
  {
   "cell_type": "code",
   "execution_count": 46,
   "metadata": {},
   "outputs": [
    {
     "name": "stdout",
     "output_type": "stream",
     "text": [
      "+--------------------+--------+---------+-------+----+------------+\n",
      "|                Date|    Time|No of Cas|    Sex| Age|Licence Type|\n",
      "+--------------------+--------+---------+-------+----+------------+\n",
      "|2016-November-Wed...|01:45 pm|        0|   Male|  56|        Full|\n",
      "|2016-November-Wed...|01:45 pm|        1|   Male|  72|        null|\n",
      "|2016-November-Tue...|03:40 pm|        0|   Male|  56|        null|\n",
      "|2016-November-Tue...|03:40 pm|        1| Female|  27|        null|\n",
      "|2016-November-Tue...|05:00 pm|        0| Female|  32|        Full|\n",
      "|2016-November-Tue...|05:00 pm|        0|Unknown|null|     Unknown|\n",
      "|2016-November-Tue...|05:40 pm|        0|   Male|  22|     Unknown|\n",
      "|2016-November-Tue...|05:40 pm|        0|   Male|  20|     Unknown|\n",
      "|2016-November-Monday|11:26 pm|        0|Unknown|null|     Unknown|\n",
      "|2016-November-Monday|11:26 pm|        0|   Male|  42|        Full|\n",
      "|2016-November-Monday|11:26 pm|        0|   null|null|        null|\n",
      "|2016-November-Monday|11:30 pm|        0|   Male|  26|     Unknown|\n",
      "|2016-November-Monday|11:30 pm|        0|   Male|  38|        Full|\n",
      "|2016-November-Monday|11:30 pm|        0|   Male|  36|        Full|\n",
      "|2016-November-Tue...|05:05 pm|        0|   Male|  25|     Unknown|\n",
      "|2016-November-Tue...|05:05 pm|        0|Unknown|null|     Unknown|\n",
      "|2016-November-Wed...|03:30 pm|        1| Female|  65|        Full|\n",
      "|2016-November-Wed...|03:30 pm|        0|Unknown|null|     Unknown|\n",
      "|2016-November-Wed...|02:20 pm|        0|   Male|  63|        Full|\n",
      "|2016-November-Wed...|02:20 pm|        0|   null|null|        null|\n",
      "+--------------------+--------+---------+-------+----+------------+\n",
      "only showing top 20 rows\n",
      "\n",
      "CPU times: user 19.4 ms, sys: 0 ns, total: 19.4 ms\n",
      "Wall time: 1.31 s\n"
     ]
    }
   ],
   "source": [
    "%%time\n",
    "\n",
    "# 1) with uncleaned data (Age)\n",
    "# \"Date\" = \"Year\"-\"Month\"-\"Day\", \"Time\" in Crashes Dataframe\n",
    "# \"No of Cas\", \"Sex\", \"Age\", \"Licence Type\" in Units Dataframe\n",
    "# Where \"Suburb\" = \"ADELAIDE\" in Crashes Dataframe\n",
    "\n",
    "# \"Suburb\" = \"ADELAIDE\"\n",
    "crash_df_ADE_ori = crash_df.filter(col(\"Suburb\") == \"ADELAIDE\")\n",
    "\n",
    "# \"Date\" = \"Year\"-\"Month\"-\"Day\"  \n",
    "crash_df_date_ori = crash_df_ADE_ori.withColumn(\"Date\", concat(col(\"Year\"),lit(\"-\"),col(\"Month\"),lit(\"-\"),col(\"Day\")))\n",
    "\n",
    "# Change the datatype for \"No of Cas\" and \"Age\"\n",
    "unit_df_type_ori = unit_df.withColumn(\"No of Cas\", unit_df[\"No of Cas\"].cast(\"int\"))\\\n",
    "                           .withColumn(\"Age\", unit_df[\"Age\"].cast(\"int\"))\n",
    "\n",
    "# join two dataframes\n",
    "join_df_1_ori = unit_df_type_ori.join(crash_df_date_ori, unit_df_type_ori.REPORT_ID== crash_df_date_ori.REPORT_ID, how='inner')\n",
    "\n",
    "# Show \"Date\", \"Time\", \"No of Cas\", \"Sex\", \"Age\", \"Licence Type\"\n",
    "final_df_1_ori = join_df_1_ori.select(\"Date\", \"Time\", \"No of Cas\", \"Sex\", \"Age\", \"Licence Type\")\n",
    "\n",
    "final_df_1_ori.show(20)"
   ]
  },
  {
   "cell_type": "code",
   "execution_count": 47,
   "metadata": {},
   "outputs": [
    {
     "name": "stdout",
     "output_type": "stream",
     "text": [
      "+--------------------+--------+---------+------+---+------------+\n",
      "|                Date|    Time|No of Cas|   Sex|Age|Licence Type|\n",
      "+--------------------+--------+---------+------+---+------------+\n",
      "|2016-November-Wed...|01:45 pm|        0|  Male| 56|        Full|\n",
      "|2016-November-Wed...|01:45 pm|        1|  Male| 72|        null|\n",
      "|2016-November-Tue...|03:40 pm|        0|  Male| 56|        null|\n",
      "|2016-November-Tue...|03:40 pm|        1|Female| 27|        null|\n",
      "|2016-November-Tue...|05:00 pm|        0|Female| 32|        Full|\n",
      "|2016-November-Tue...|05:40 pm|        0|  Male| 22|     Unknown|\n",
      "|2016-November-Tue...|05:40 pm|        0|  Male| 20|     Unknown|\n",
      "|2016-November-Monday|11:26 pm|        0|  Male| 42|        Full|\n",
      "|2016-November-Monday|11:30 pm|        0|  Male| 26|     Unknown|\n",
      "|2016-November-Monday|11:30 pm|        0|  Male| 38|        Full|\n",
      "|2016-November-Monday|11:30 pm|        0|  Male| 36|        Full|\n",
      "|2016-November-Tue...|05:05 pm|        0|  Male| 25|     Unknown|\n",
      "|2016-November-Wed...|03:30 pm|        1|Female| 65|        Full|\n",
      "|2016-November-Wed...|02:20 pm|        0|  Male| 63|        Full|\n",
      "|2016-November-Sunday|12:01 am|        0|  Male| 51|        Full|\n",
      "|2016-November-Sunday|12:01 am|        0|Female| 21|        Full|\n",
      "|2016-November-Sunday|12:01 am|        0|Female| 21|        Full|\n",
      "|2016-November-Wed...|04:26 pm|        0|  Male| 25|     Unknown|\n",
      "|2016-November-Wed...|03:00 pm|        0|Female| 27|        Full|\n",
      "|2016-November-Wed...|03:00 pm|        0|  Male| 67|        Full|\n",
      "+--------------------+--------+---------+------+---+------------+\n",
      "only showing top 20 rows\n",
      "\n",
      "CPU times: user 15.7 ms, sys: 977 µs, total: 16.6 ms\n",
      "Wall time: 962 ms\n"
     ]
    }
   ],
   "source": [
    "%%time\n",
    "\n",
    "# 2) with cleaned data (Age)\n",
    "# \"Date\" = \"Year\"-\"Month\"-\"Day\", \"Time\" in Crashes Dataframe\n",
    "# \"No of Cas\", \"Sex\", \"Age\", \"Licence Type\" in Units Dataframe\n",
    "# Where \"Suburb\" = \"ADELAIDE\" in Crashes Dataframe\n",
    "\n",
    "# \"Suburb\" = \"ADELAIDE\"\n",
    "crash_df_ADE = crash_df.filter(col(\"Suburb\") == \"ADELAIDE\")\n",
    "\n",
    "# \"Date\" = \"Year\"-\"Month\"-\"Day\"  \n",
    "crash_df_date = crash_df_ADE.withColumn(\"Date\", concat(col(\"Year\"),lit(\"-\"),col(\"Month\"),lit(\"-\"),col(\"Day\")))\n",
    "\n",
    "# Change the datatype for \"No of Cas\" and \"Age\"\n",
    "unit_df_type = unit_df.withColumn(\"No of Cas\", unit_df[\"No of Cas\"].cast(\"int\"))\\\n",
    "                       .withColumn(\"Age\", unit_df[\"Age\"].cast(\"int\"))\n",
    "\n",
    "# Let's assume that the age limit for driving vehicles in Australia: 18 <= age <= 120\n",
    "unit_df_age = unit_df_type.filter((col(\"Age\") >= 18)&(col(\"Age\") <= 120))\n",
    "\n",
    "# join two dataframes\n",
    "join_df_1 = unit_df_age.join(crash_df_date, unit_df_age.REPORT_ID== crash_df_date.REPORT_ID, how='inner')\n",
    "\n",
    "# Show \"Date\", \"Time\", \"No of Cas\", \"Sex\", \"Age\", \"Licence Type\"\n",
    "final_df_1 = join_df_1.select(\"Date\", \"Time\", \"No of Cas\", \"Sex\", \"Age\", \"Licence Type\")\n",
    "\n",
    "final_df_1.show(20)"
   ]
  },
  {
   "cell_type": "markdown",
   "metadata": {},
   "source": [
    "Steven.B. (2018, March 21). In pyspark, how do you add/concat a string to a column?. Retrieved from https://stackoverflow.com/questions/49397966/in-pyspark-how-do-you-add-concat-a-string-to-a-column"
   ]
  },
  {
   "cell_type": "markdown",
   "metadata": {},
   "source": [
    "<li> SparkSQL </li>"
   ]
  },
  {
   "cell_type": "code",
   "execution_count": 48,
   "metadata": {},
   "outputs": [],
   "source": [
    "# Create Views from Dataframes\n",
    "# SQL does not use original dataframes itself. \n",
    "# Instead, it will creat views and use these as sql dataframes.\n",
    "\n",
    "unit_df.createOrReplaceTempView(\"sql_unit\")\n",
    "crash_df.createOrReplaceTempView(\"sql_crash\")"
   ]
  },
  {
   "cell_type": "code",
   "execution_count": 49,
   "metadata": {},
   "outputs": [
    {
     "name": "stdout",
     "output_type": "stream",
     "text": [
      "+--------------------+--------+---------+-------+----+------------+\n",
      "|                Date|    Time|No of Cas|    Sex| Age|Licence Type|\n",
      "+--------------------+--------+---------+-------+----+------------+\n",
      "|2016-November-Wed...|01:45 pm|        0|   Male|  56|        Full|\n",
      "|2016-November-Wed...|01:45 pm|        1|   Male|  72|        null|\n",
      "|2016-November-Tue...|03:40 pm|        0|   Male|  56|        null|\n",
      "|2016-November-Tue...|03:40 pm|        1| Female|  27|        null|\n",
      "|2016-November-Tue...|05:00 pm|        0| Female|  32|        Full|\n",
      "|2016-November-Tue...|05:00 pm|        0|Unknown|null|     Unknown|\n",
      "|2016-November-Tue...|05:40 pm|        0|   Male|  22|     Unknown|\n",
      "|2016-November-Tue...|05:40 pm|        0|   Male|  20|     Unknown|\n",
      "|2016-November-Monday|11:26 pm|        0|Unknown|null|     Unknown|\n",
      "|2016-November-Monday|11:26 pm|        0|   Male|  42|        Full|\n",
      "|2016-November-Monday|11:26 pm|        0|   null|null|        null|\n",
      "|2016-November-Monday|11:30 pm|        0|   Male|  26|     Unknown|\n",
      "|2016-November-Monday|11:30 pm|        0|   Male|  38|        Full|\n",
      "|2016-November-Monday|11:30 pm|        0|   Male|  36|        Full|\n",
      "|2016-November-Tue...|05:05 pm|        0|   Male|  25|     Unknown|\n",
      "|2016-November-Tue...|05:05 pm|        0|Unknown|null|     Unknown|\n",
      "|2016-November-Wed...|03:30 pm|        1| Female|  65|        Full|\n",
      "|2016-November-Wed...|03:30 pm|        0|Unknown|null|     Unknown|\n",
      "|2016-November-Wed...|02:20 pm|        0|   Male|  63|        Full|\n",
      "|2016-November-Wed...|02:20 pm|        0|   null|null|        null|\n",
      "+--------------------+--------+---------+-------+----+------------+\n",
      "only showing top 20 rows\n",
      "\n",
      "CPU times: user 311 µs, sys: 3.16 ms, total: 3.47 ms\n",
      "Wall time: 1.28 s\n"
     ]
    }
   ],
   "source": [
    "%%time \n",
    "\n",
    "# 1) with uncleaned data(Age)\n",
    "# \"Date\" = \"Year\"-\"Month\"-\"Day\", \"Time\" in Crashes SQL\n",
    "# \"No of Cas\", \"Sex\", \"Age\", \"Licence Type\" in Units SQL\n",
    "# Where \"Suburb\" = \"ADELAIDE\" in Crashes SQL\n",
    "\n",
    "sql_1_ori = spark.sql('''\n",
    "    SELECT c.Year ||\"-\"|| c.Month ||\"-\"|| c.Day as Date, c.Time, cast(u.`No of Cas` as int), u.Sex, cast(u.Age as int), u.`Licence Type`\n",
    "    FROM sql_crash c JOIN sql_unit u ON c.REPORT_ID = u.REPORT_ID\n",
    "    WHERE c.Suburb = \"ADELAIDE\"\n",
    "''')\n",
    "\n",
    "sql_1_ori.show(20)\n",
    " "
   ]
  },
  {
   "cell_type": "code",
   "execution_count": 50,
   "metadata": {},
   "outputs": [
    {
     "name": "stdout",
     "output_type": "stream",
     "text": [
      "+--------------------+--------+---------+------+---+------------+\n",
      "|                Date|    Time|No of Cas|   Sex|Age|Licence Type|\n",
      "+--------------------+--------+---------+------+---+------------+\n",
      "|2016-November-Wed...|01:45 pm|        0|  Male| 56|        Full|\n",
      "|2016-November-Wed...|01:45 pm|        1|  Male| 72|        null|\n",
      "|2016-November-Tue...|03:40 pm|        0|  Male| 56|        null|\n",
      "|2016-November-Tue...|03:40 pm|        1|Female| 27|        null|\n",
      "|2016-November-Tue...|05:00 pm|        0|Female| 32|        Full|\n",
      "|2016-November-Tue...|05:40 pm|        0|  Male| 22|     Unknown|\n",
      "|2016-November-Tue...|05:40 pm|        0|  Male| 20|     Unknown|\n",
      "|2016-November-Monday|11:26 pm|        0|  Male| 42|        Full|\n",
      "|2016-November-Monday|11:30 pm|        0|  Male| 26|     Unknown|\n",
      "|2016-November-Monday|11:30 pm|        0|  Male| 38|        Full|\n",
      "|2016-November-Monday|11:30 pm|        0|  Male| 36|        Full|\n",
      "|2016-November-Tue...|05:05 pm|        0|  Male| 25|     Unknown|\n",
      "|2016-November-Wed...|03:30 pm|        1|Female| 65|        Full|\n",
      "|2016-November-Wed...|02:20 pm|        0|  Male| 63|        Full|\n",
      "|2016-November-Sunday|12:01 am|        0|  Male| 51|        Full|\n",
      "|2016-November-Sunday|12:01 am|        0|Female| 21|        Full|\n",
      "|2016-November-Sunday|12:01 am|        0|Female| 21|        Full|\n",
      "|2016-November-Wed...|04:26 pm|        0|  Male| 25|     Unknown|\n",
      "|2016-November-Wed...|03:00 pm|        0|Female| 27|        Full|\n",
      "|2016-November-Wed...|03:00 pm|        0|  Male| 67|        Full|\n",
      "+--------------------+--------+---------+------+---+------------+\n",
      "only showing top 20 rows\n",
      "\n",
      "CPU times: user 2.98 ms, sys: 372 µs, total: 3.36 ms\n",
      "Wall time: 1.22 s\n"
     ]
    }
   ],
   "source": [
    "%%time \n",
    "\n",
    "# 2) with cleaned data\n",
    "# \"Date\" = \"Year\"-\"Month\"-\"Day\", \"Time\" in Crashes SQL\n",
    "# \"No of Cas\", \"Sex\", \"Age\", \"Licence Type\" in Units SQL\n",
    "# Where \"Suburb\" = \"ADELAIDE\" in Crashes SQL\n",
    "# Let's assume that the age limit for driving vehicles in Australia: 18 <= age <= 120\n",
    "\n",
    "sql_1 = spark.sql('''\n",
    "    SELECT c.Year ||\"-\"|| c.Month ||\"-\"|| c.Day as Date, c.Time, cast(u.`No of Cas` as int), u.Sex, cast(u.Age as int), u.`Licence Type`\n",
    "    FROM sql_crash c JOIN sql_unit u ON c.REPORT_ID = u.REPORT_ID\n",
    "    WHERE c.Suburb = \"ADELAIDE\"\n",
    "    AND cast(u.Age as int) BETWEEN 18 AND 120\n",
    "''')\n",
    "\n",
    "sql_1.show(20)\n",
    " "
   ]
  },
  {
   "cell_type": "markdown",
   "metadata": {},
   "source": [
    "<font color = red> https://community.cloudera.com/t5/Community-Articles/Spark-RDDs-vs-DataFrames-vs-SparkSQL/ta-p/246547"
   ]
  },
  {
   "cell_type": "markdown",
   "metadata": {},
   "source": [
    "#### 2. Find the total number of casualties for each suburb when the vehicle was driven by an unlicensed driver. You are required to display the name of the suburb and the total number of casualties."
   ]
  },
  {
   "cell_type": "markdown",
   "metadata": {},
   "source": [
    "<li> RDDs </li>"
   ]
  },
  {
   "cell_type": "code",
   "execution_count": 51,
   "metadata": {},
   "outputs": [
    {
     "name": "stdout",
     "output_type": "stream",
     "text": [
      "CPU times: user 75.3 ms, sys: 6.79 ms, total: 82.1 ms\n",
      "Wall time: 5.32 s\n"
     ]
    },
    {
     "data": {
      "text/plain": [
       "[('HAPPY VALLEY', 5),\n",
       " ('MUNNO PARA WEST', 1),\n",
       " ('HEATHPOOL', 3),\n",
       " ('NORTH PLYMPTON', 1),\n",
       " ('WHITES FLAT', 0),\n",
       " ('CRAIGMORE', 2),\n",
       " ('PARALOWIE', 4),\n",
       " ('BIRKENHEAD', 2),\n",
       " ('BERRI', 3),\n",
       " ('CLOVELLY PARK', 1),\n",
       " ('DAVOREN PARK', 8),\n",
       " ('HACKHAM', 3),\n",
       " ('MODBURY NORTH', 3),\n",
       " ('FULLARTON', 0),\n",
       " ('ONKAPARINGA HILLS', 7),\n",
       " ('FIRLE', 6),\n",
       " ('RIVERGLADES', 1),\n",
       " ('SALISBURY PARK', 0),\n",
       " ('URRBRAE', 2),\n",
       " ('LINDEN PARK', 1)]"
      ]
     },
     "execution_count": 51,
     "metadata": {},
     "output_type": "execute_result"
    }
   ],
   "source": [
    "%%time\n",
    "\n",
    "# Indices for each attribute we will use\n",
    "# \"Licence Type\"= 11 in Units RDD\n",
    "# \"Suburb\"= 2, \"Total Cas\" = 6 in Crashes RDD\n",
    "\n",
    "# \"Licence Type\"= \"Unlicenced\"\n",
    "unit_unlic = rdd_unit_query.filter(lambda x: x[11]==\"Unlicenced\")\n",
    "\n",
    "# \"Total Cas\" = numeric values\n",
    "crash_cas = rdd_crash_query.filter(lambda x: x[6].isnumeric() == True)\n",
    "\n",
    "# join two RDDs by using key value pair RDDs\n",
    "unit_join_2 = unit_unlic.map(lambda x: (x[0],x[1:]))\n",
    "crash_join_2 = crash_cas.map(lambda x: (x[0],x[1:]))\n",
    "rdd_join_2 = unit_join_2.join(crash_join_2)\n",
    "\n",
    "# create a key value pair RDD = (\"Suburb\", \"Total Cas\"), change the datatype of \"Total Cas\"\n",
    "sub_cas_pair = rdd_join_2.map(lambda x: (x[1][1][1], int(x[1][1][5])))\n",
    "\n",
    "# sum of total number of casualties for each suburb\n",
    "sub_cas_sum = sub_cas_pair.groupByKey().mapValues(lambda x: sum(x))\n",
    "\n",
    "sub_cas_sum.take(20)"
   ]
  },
  {
   "cell_type": "markdown",
   "metadata": {},
   "source": [
    "<li> DataFrames </li>"
   ]
  },
  {
   "cell_type": "code",
   "execution_count": 52,
   "metadata": {},
   "outputs": [],
   "source": [
    "unit_df_new = unit_df"
   ]
  },
  {
   "cell_type": "code",
   "execution_count": 53,
   "metadata": {},
   "outputs": [
    {
     "name": "stdout",
     "output_type": "stream",
     "text": [
      "+-------------------+--------------------------+\n",
      "|             Suburb|Total_number_of_casualties|\n",
      "+-------------------+--------------------------+\n",
      "|      FLINDERS PARK|                         8|\n",
      "|       POOGINAGORIC|                         1|\n",
      "|     TEA TREE GULLY|                         1|\n",
      "|            HACKHAM|                         3|\n",
      "|   MEDINDIE GARDENS|                         0|\n",
      "|           WISANGER|                         1|\n",
      "|            CUMMINS|                         0|\n",
      "|       BASKET RANGE|                         0|\n",
      "|MURRAY BRIDGE SOUTH|                         0|\n",
      "|      GILLES PLAINS|                         7|\n",
      "|             HAWKER|                         0|\n",
      "|           BEAUFORT|                         1|\n",
      "|             MAGILL|                         7|\n",
      "|            ECHUNGA|                         1|\n",
      "|            CULTANA|                         1|\n",
      "|        EDWARDSTOWN|                         6|\n",
      "|        RISDON PARK|                         1|\n",
      "|          THORNGATE|                         1|\n",
      "|       ANDREWS FARM|                        12|\n",
      "|       TORRENSVILLE|                         5|\n",
      "+-------------------+--------------------------+\n",
      "only showing top 20 rows\n",
      "\n",
      "CPU times: user 8.51 ms, sys: 2.13 ms, total: 10.6 ms\n",
      "Wall time: 1.82 s\n"
     ]
    }
   ],
   "source": [
    "%%time \n",
    "\n",
    "# \"Licence Type\"= \"Unlicenced\"\n",
    "unit_df_unlic = unit_df_new.filter(col(\"Licence Type\") == \"Unlicenced\")\n",
    "\n",
    "# join two dataframes\n",
    "join_df_2 = crash_df.join(unit_df_unlic, crash_df.REPORT_ID== unit_df_unlic.REPORT_ID, how='inner')\n",
    "\n",
    "# change the datatype of \"Total Cas\" Column \n",
    "join_type = join_df_2.withColumn(\"Total Cas\", join_df_2[\"Total Cas\"].cast(\"int\"))\n",
    "\n",
    "# groupby \"Suburb\", calculate \"Total Cas\", return \"Suburb\" and \"Total Cas\"\n",
    "final_df_2 = join_type.groupby(\"Suburb\").agg(F.sum(\"Total Cas\").alias(\"Total_number_of_casualties\"))\n",
    "\n",
    "final_df_2.show(20)"
   ]
  },
  {
   "cell_type": "markdown",
   "metadata": {},
   "source": [
    "<li> SparkSQL </li>"
   ]
  },
  {
   "cell_type": "code",
   "execution_count": 54,
   "metadata": {
    "scrolled": false
   },
   "outputs": [
    {
     "name": "stdout",
     "output_type": "stream",
     "text": [
      "+-------------------+--------------------------+\n",
      "|             Suburb|Total_number_of_casualties|\n",
      "+-------------------+--------------------------+\n",
      "|      FLINDERS PARK|                         8|\n",
      "|       POOGINAGORIC|                         1|\n",
      "|     TEA TREE GULLY|                         1|\n",
      "|            HACKHAM|                         3|\n",
      "|   MEDINDIE GARDENS|                         0|\n",
      "|           WISANGER|                         1|\n",
      "|            CUMMINS|                         0|\n",
      "|       BASKET RANGE|                         0|\n",
      "|MURRAY BRIDGE SOUTH|                         0|\n",
      "|      GILLES PLAINS|                         7|\n",
      "|             HAWKER|                         0|\n",
      "|           BEAUFORT|                         1|\n",
      "|             MAGILL|                         7|\n",
      "|            ECHUNGA|                         1|\n",
      "|            CULTANA|                         1|\n",
      "|        EDWARDSTOWN|                         6|\n",
      "|        RISDON PARK|                         1|\n",
      "|          THORNGATE|                         1|\n",
      "|       ANDREWS FARM|                        12|\n",
      "|       TORRENSVILLE|                         5|\n",
      "+-------------------+--------------------------+\n",
      "only showing top 20 rows\n",
      "\n",
      "CPU times: user 3.12 ms, sys: 0 ns, total: 3.12 ms\n",
      "Wall time: 1.86 s\n"
     ]
    }
   ],
   "source": [
    "%%time\n",
    "\n",
    "# \"Licence Type\"= \"Unlicenced\", groupby \"Suburb\", calculate \"Total Cas\", return \"Suburb\" and \"Total Cas\"\n",
    "sql_2 = spark.sql('''\n",
    "    SELECT c.Suburb, SUM(cast(c.`Total Cas` as int)) as Total_number_of_casualties\n",
    "    FROM sql_crash c JOIN sql_unit u ON c.REPORT_ID = u.REPORT_ID\n",
    "    WHERE u.`Licence Type` = \"Unlicenced\"\n",
    "    GROUP BY c.Suburb\n",
    "''')\n",
    "\n",
    "sql_2.show(20)"
   ]
  },
  {
   "cell_type": "markdown",
   "metadata": {},
   "source": [
    "<li> Comparing three methods </li>"
   ]
  },
  {
   "cell_type": "markdown",
   "metadata": {},
   "source": [
    "#### &nbsp;&nbsp;&nbsp;&nbsp;&nbsp; Answer:\n",
    " \n",
    "$Performance: Spark SQL  $$\\geq$$  DataFrame > RDDs$\n",
    "<br>\n",
    "<br>\n",
    "From the two examples shown above, it seems that SparkSQL and DataFrames, especially SparkSQL with analysis involving aggregation and sorting, yield better performance results than RDDs for joining datasets. This is because, even though RDD was able to speed up processing through in-memory data processing, it is difficult to optimize efficiency for joining operations by using RDDs, since users have to control the processing directly. Furthermore, when developing Spark applications, RDD uses SparkContext, while DataFrame and SparkSQL use SparkSession objects. In other words, since SparkSQL and Dataframe use the same engine, featuring the Catalyst optimizer, the joining processing performance of them is similar to each other's, and faster than RDDs'. "
   ]
  },
  {
   "cell_type": "markdown",
   "metadata": {},
   "source": [
    "Bmathew. (2016, June 28). Spark RDDs vs DataFrames vs SparkSQL. Retrieved from https://community.cloudera.com/t5/Community-Articles/Spark-RDDs-vs-DataFrames-vs-SparkSQL/ta-p/246547"
   ]
  }
 ],
 "metadata": {
  "kernelspec": {
   "display_name": "Python 3",
   "language": "python",
   "name": "python3"
  },
  "language_info": {
   "codemirror_mode": {
    "name": "ipython",
    "version": 3
   },
   "file_extension": ".py",
   "mimetype": "text/x-python",
   "name": "python",
   "nbconvert_exporter": "python",
   "pygments_lexer": "ipython3",
   "version": "3.7.4"
  }
 },
 "nbformat": 4,
 "nbformat_minor": 4
}
